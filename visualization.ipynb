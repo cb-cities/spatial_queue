{
 "metadata": {
  "language_info": {
   "codemirror_mode": {
    "name": "ipython",
    "version": 3
   },
   "file_extension": ".py",
   "mimetype": "text/x-python",
   "name": "python",
   "nbconvert_exporter": "python",
   "pygments_lexer": "ipython3",
   "version": 3
  },
  "orig_nbformat": 2,
  "kernelspec": {
   "name": "python_defaultSpec_1597265945614",
   "display_name": "Python 3.7.7 64-bit ('geo': conda)"
  }
 },
 "nbformat": 4,
 "nbformat_minor": 2,
 "cells": [
  {
   "cell_type": "code",
   "execution_count": null,
   "metadata": {},
   "outputs": [],
   "source": [
    "import numpy as np \n",
    "import pandas as pd "
   ]
  },
  {
   "cell_type": "code",
   "execution_count": null,
   "metadata": {},
   "outputs": [],
   "source": [
    "edges_df = pd.read_csv('projects/butte_millard/network_inputs/edges_residual_demand.csv')\n",
    "edges_df.head()\n"
   ]
  },
  {
   "cell_type": "code",
   "execution_count": 11,
   "metadata": {
    "tags": []
   },
   "outputs": [],
   "source": [
    "for t in range(1000, 5000, 1000):\n",
    "    res_df = pd.read_csv('projects/butte_millard/simulation_outputs/link_stats/link_stats_dtimm_t{}.csv'.format(t))\n",
    "    res_df = res_df.merge(edges_df[['edge_id_igraph', 'geometry']], how='left', left_on='link_id', right_on='edge_id_igraph')\n",
    "    res_df.to_csv('projects/butte_millard/visualization_outputs/link_stats_dtimm_t{}.csv'.format(t))"
   ]
  },
  {
   "cell_type": "code",
   "execution_count": null,
   "metadata": {},
   "outputs": [],
   "source": []
  }
 ]
}
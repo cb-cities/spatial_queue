{
 "cells": [
  {
   "cell_type": "code",
   "execution_count": 1,
   "metadata": {},
   "outputs": [],
   "source": [
    "import pandas as pd \n",
    "import numpy as np\n",
    "import rasterio as rio\n",
    "import rasterio.features\n",
    "from rasterio.warp import reproject\n",
    "import geopandas as gpd\n",
    "from shapely.wkt import loads\n",
    "from shapely.geometry import Point\n",
    "import matplotlib as mpl  \n",
    "from matplotlib import pyplot as plt\n",
    "from geocube.api.core import make_geocube\n",
    "from osgeo import gdal\n",
    "import scipy.ndimage as ndimage\n",
    "from scipy.interpolate import griddata\n",
    "from scipy.spatial import distance"
   ]
  },
  {
   "cell_type": "code",
   "execution_count": 22,
   "metadata": {},
   "outputs": [],
   "source": [
    "edges = pd.read_csv('../network_inputs/bolinas_edges_sim.csv')\n",
    "edges = gpd.GeoDataFrame(edges, crs='epsg:4326', geometry=edges['geometry'].map(loads))\n",
    "edges['start_x'] = edges['geometry'].apply(lambda x: x.coords[0][0])\n",
    "edges['end_x'] = edges['geometry'].apply(lambda x: x.coords[-1][0])\n",
    "\n",
    "edges1 = edges.loc[edges['start_x']<=edges['end_x']]\n",
    "cube = make_geocube(vector_data=edges1, measurements=[\"eid\"], resolution=(-0.0002, 0.0002))\n",
    "cube[\"eid\"].rio.to_raster(\"../network_inputs/bolinas_edges_raster1.tif\")\n",
    "\n",
    "edges2 = edges.loc[edges['start_x']>edges['end_x']]\n",
    "cube = make_geocube(vector_data=edges2, measurements=[\"eid\"], resolution=(-0.0002, 0.0002))\n",
    "cube[\"eid\"].rio.to_raster(\"../network_inputs/bolinas_edges_raster2.tif\")"
   ]
  },
  {
   "cell_type": "code",
   "execution_count": 4,
   "metadata": {},
   "outputs": [],
   "source": [
    "### eucalyptus\n",
    "# resample fire to match road\n",
    "\n",
    "rst_fn = '../network_inputs/bolinas_edges_raster1.tif'\n",
    "out_fn = 'fire/eucalyptus_match_roads.tif'\n",
    "\n",
    "eucalyptus = pd.read_csv('fire/eucalyptus.csv')\n",
    "eucalyptus = gpd.GeoDataFrame(eucalyptus, crs='epsg:4326', geometry=eucalyptus['WKT'].map(loads))\n",
    "eucalyptus['value'] = 1\n",
    "\n",
    "rst = rasterio.open(rst_fn)\n",
    "meta = rst.meta.copy()\n",
    "meta.update(compress='lzw')\n",
    "with rasterio.open(out_fn, 'w+', **meta) as out:\n",
    "    out_arr = out.read(1)\n",
    "\n",
    "    # this is where we create a generator of geom, value pairs to use in rasterizing\n",
    "    shapes = ((geom,value) for geom, value in zip(eucalyptus.geometry, eucalyptus.value))\n",
    "\n",
    "    burned = rasterio.features.rasterize(shapes=shapes, fill=0, out=out_arr, transform=out.transform)\n",
    "    out.write_band(1, burned)\n",
    "\n",
    "# # open reference file and get resolution\n",
    "# referenceFile = \"../network_inputs/bolinas_edges_raster1.tif\"\n",
    "# reference = gdal.Open(referenceFile, 0)  # this opens the file in only reading mode\n",
    "# referenceTrans = reference.GetGeoTransform()\n",
    "# print(referenceTrans)\n",
    "# x_min = referenceTrans[0]\n",
    "# y_max = referenceTrans[3]\n",
    "# x_res = referenceTrans[1]\n",
    "# y_res = -referenceTrans[5]  # make sure this value is positive\n",
    "# x_max = x_min + x_res*reference.RasterXSize\n",
    "# y_min = y_max - y_res*reference.RasterYSize\n",
    "# ref_proj = reference.GetProjection()\n",
    "# print(x_min, y_min, x_max, y_max, x_res, y_res)\n",
    "\n",
    "# inputFile = \"fire/eucalyptus.tif\"\n",
    "# outputFile = \"fire/eucalyptus_match_roads.tif\"\n",
    "\n",
    "# # ds = gdal.Warp(outputFile, inputFile)\n",
    "\n",
    "# # dataset = gdal.Open(inputFile)\n",
    "# # print(dataset.GetGeoTransform())\n",
    "# # call gdal Warp\n",
    "# kwargs = {\"format\": \"GTiff\", \"xRes\": x_res, \"yRes\": y_res, \"dstSRS\": ref_proj}#, \"outputBounds\": [ x_min, y_min, x_max, y_max]}\n",
    "# ds = gdal.Warp(outputFile, inputFile, outputBounds=[ x_min, y_min, x_max, y_max], **kwargs)\n",
    "# print(ds.GetGeoTransform())\n",
    "\n",
    "# # band = ds.GetRasterBand(1)\n",
    "# # print(\"Band Type={}\".format(gdal.GetDataTypeName(band.DataType)))\n",
    "\n",
    "# # band_min = band.GetMinimum()\n",
    "# # band_max = band.GetMaximum()\n",
    "# # print(band_min, band_max)"
   ]
  },
  {
   "cell_type": "code",
   "execution_count": 4,
   "metadata": {
    "tags": []
   },
   "outputs": [
    {
     "name": "stdout",
     "output_type": "stream",
     "text": [
      "13.645369\n"
     ]
    }
   ],
   "source": [
    "template = rio.open(\"flamelength/flame_length_scen{}/{}.TIF\".format(1, 1))\n",
    "\n",
    "for fire_id in [3]:\n",
    "    fire_time = template.read(1).copy()\n",
    "    fire_time = np.nan\n",
    "    flame_length = template.read(1).copy()\n",
    "    flame_length = 0\n",
    "    \n",
    "    for hour_id in range(1, 11):\n",
    "        fire_data = rio.open(\"flamelength/flame_length_scen{}/{}.TIF\".format(fire_id, hour_id)).read(1)\n",
    "        fire_time = np.where(np.isnan(fire_time) & (fire_data!=-9999), hour_id-1, fire_time)\n",
    "        \n",
    "#     first_hour_locations = np.mean(np.argwhere(fire_time==0), axis=0).astype(int)\n",
    "#     fire_time[tuple(first_hour_locations)]=-1\n",
    "#     print(first_hour_locations, fire_time[~np.isnan(fire_time)].shape)\n",
    "    \n",
    "#     positive_distance_list, negative_distance_list = [], []\n",
    "#     distance_m = fire_time.copy()\n",
    "#     distance_locations_m = np.argwhere(~np.isnan(distance_m))\n",
    "#     print(fire_time.shape, distance_locations_m.shape, fire_time[~np.isnan(fire_time)].shape)\n",
    "    \n",
    "#     for hour_id in range(0, 10):\n",
    "#         fire_time_locations_1 = np.argwhere(fire_time==(hour_id-1))\n",
    "#         cdist_1 = np.min(distance.cdist(fire_time_locations_1, distance_locations_m), axis=0)\n",
    "#         fire_time_locations_2 = np.argwhere(fire_time==hour_id)\n",
    "#         cdist_2 = np.min(distance.cdist(fire_time_locations_2, distance_locations_m), axis=0)\n",
    "#         positive_distance_list.append(cdist_1)\n",
    "#         negative_distance_list.append(cdist_2)\n",
    "#     positive_distance_array = np.vstack(positive_distance_list)\n",
    "#     negative_distance_array = np.vstack(negative_distance_list)\n",
    "#     positive_distance_array_expand = np.where(np.sum(positive_distance_array==0, axis=0)==0, 0, 1000)\n",
    "#     positive_distance_array = np.vstack([positive_distance_array, positive_distance_array_expand])\n",
    "#     display(positive_distance_array.shape)\n",
    " \n",
    "#     before_id = np.argwhere(positive_distance_array.T==0)[:,1]-1\n",
    "#     before_id = np.where(before_id<0, 0, before_id)\n",
    "#     after_id = np.argwhere(positive_distance_array.T==0)[:,1]+1\n",
    "#     after_id = np.where(after_id>9, 9, after_id)\n",
    "#     before_distance = positive_distance_array[before_id, np.arange(positive_distance_array.shape[1]).tolist()]\n",
    "#     after_distance = positive_distance_array[after_id, np.arange(positive_distance_array.shape[1]).tolist()]\n",
    "#     time = before_id + before_distance/(before_distance+after_distance)\n",
    "#     fire_time2 = fire_time.copy()\n",
    "#     print(before_id.shape, after_id.shape, before_distance.shape, after_distance.shape, fire_time2[~np.isnan(fire_time2)].shape)\n",
    "#     fire_time2[~np.isnan(fire_time2)] = time\n",
    "#     print(fire_time2.shape)\n",
    "\n",
    "    # output\n",
    "#     with rasterio.open('flamelength/time_fire{}.tif'.format(fire_id), 'w', driver='GTiff', height=fire_time2.shape[0], width=fire_time2.shape[1], count=1, dtype=fire_time2.dtype, crs=template.crs, transform=template.transform) as dst:\n",
    "#         dst.write(fire_time2, 1)\n",
    "\n",
    "    # flame length\n",
    "    flame_length = np.where(fire_data==-9999, np.nan, fire_data)\n",
    "    print(np.max(flame_length[~np.isnan(flame_length)]))\n",
    "    with rasterio.open('flamelength/flame_fire{}.tif'.format(fire_id), 'w', driver='GTiff', height=flame_length.shape[0], width=flame_length.shape[1], count=1, dtype=flame_length.dtype, crs=template.crs, transform=template.transform) as dst:\n",
    "        dst.write(flame_length, 1)"
   ]
  },
  {
   "cell_type": "code",
   "execution_count": 3,
   "metadata": {},
   "outputs": [
    {
     "name": "stdout",
     "output_type": "stream",
     "text": [
      "(-122.74640000000001, 0.00019999999999998825, 0.0, 37.9804, 0.0, -0.0001999999999999982)\n",
      "-122.74640000000001 37.879200000000004 -122.59920000000001 37.9804 0.00019999999999998825 0.0001999999999999982\n",
      "Band Type=Float64\n",
      "Min=0.359, Max=9.500\n",
      "Band Type=Float32\n",
      "Min=0.110, Max=10.248\n",
      "Band Type=Float64\n",
      "Min=0.673, Max=9.500\n",
      "Band Type=Float32\n",
      "Min=0.116, Max=12.103\n"
     ]
    }
   ],
   "source": [
    "# resample fire to match road\n",
    "# open reference file and get resolution\n",
    "referenceFile = \"../network_inputs/bolinas_edges_raster1.tif\"\n",
    "reference = gdal.Open(referenceFile, 0)  # this opens the file in only reading mode\n",
    "referenceTrans = reference.GetGeoTransform()\n",
    "print(referenceTrans)\n",
    "x_min = referenceTrans[0]\n",
    "y_max = referenceTrans[3]\n",
    "x_res = referenceTrans[1]\n",
    "y_res = -referenceTrans[5]  # make sure this value is positive\n",
    "x_max = x_min + x_res*reference.RasterXSize\n",
    "y_min = y_max - y_res*reference.RasterYSize\n",
    "ref_proj = reference.GetProjection()\n",
    "print(x_min, y_min, x_max, y_max, x_res, y_res)\n",
    "\n",
    "for fire_id in [2, 3]:\n",
    "    fire_time_inputFile = 'flamelength/time_fire{}.tif'.format(fire_id)\n",
    "    flame_length_inputFile = 'flamelength/flame_fire{}.tif'.format(fire_id)\n",
    "    for inputFile in [fire_time_inputFile, flame_length_inputFile]:\n",
    "        outputFile = inputFile.split('.tif')[0] + '_match_road.tif'\n",
    "        dataset = gdal.Open(inputFile)\n",
    "        # call gdal Warp\n",
    "        kwargs = {\"format\": \"GTiff\", \"xRes\": x_res, \"yRes\": y_res, \"dstSRS\": ref_proj}#, \"outputBounds\": [ x_min, y_min, x_max, y_max]}\n",
    "        ds = gdal.Warp(outputFile, dataset, outputBounds=[ x_min, y_min, x_max, y_max], **kwargs)\n",
    "        \n",
    "        band = ds.GetRasterBand(1)\n",
    "        print(\"Band Type={}\".format(gdal.GetDataTypeName(band.DataType)))\n",
    "\n",
    "        min = band.GetMinimum()\n",
    "        max = band.GetMaximum()\n",
    "        if not min or not max:\n",
    "            (min,max) = band.ComputeRasterMinMax(True)\n",
    "        print(\"Min={:.3f}, Max={:.3f}\".format(min,max))\n",
    "\n",
    "        if band.GetOverviewCount() > 0:\n",
    "            print(\"Band has {} overviews\".format(band.GetOverviewCount()))\n",
    "\n",
    "        if band.GetRasterColorTable():\n",
    "            print(\"Band has a color table with {} entries\".format(band.GetRasterColorTable().GetCount()))"
   ]
  },
  {
   "cell_type": "code",
   "execution_count": 29,
   "metadata": {},
   "outputs": [
    {
     "name": "stdout",
     "output_type": "stream",
     "text": [
      "(506, 736) 13.645369\n"
     ]
    }
   ],
   "source": [
    "test = rio.open(\"flamelength/flame_fire3_match_road.tif\")\n",
    "test_array = test.read(1)\n",
    "# np.max(test_array[~np.isnan(test_array)])\n",
    "print(test_array.shape, np.max(test_array[~np.isnan(test_array)]))"
   ]
  },
  {
   "cell_type": "code",
   "execution_count": 19,
   "metadata": {},
   "outputs": [],
   "source": [
    "inputFile = \"flamelength/flame_length_scen{}/{}.TIF\".format(1, 1)\n",
    "dataset = gdal.Open(inputFile)"
   ]
  },
  {
   "cell_type": "code",
   "execution_count": 25,
   "metadata": {},
   "outputs": [
    {
     "data": {
      "text/plain": [
       "array([ 0.57671535,  0.5642986 ,  0.548952  ,  0.62561786,  0.6142623 ,\n",
       "        0.6094229 ,  0.58788407,  0.54788357,  2.1263912 ,  0.66354895,\n",
       "        0.66777253,  0.675476  ,  0.67075735,  0.696022  ,  1.0820185 ,\n",
       "        1.3953884 ,  0.6948105 ,  0.7186461 ,  0.74402833,  0.80314374,\n",
       "        0.5722972 ,  0.8920534 ,  5.440207  ,  1.9779557 ,  0.5088464 ,\n",
       "        0.75899535,  0.7954691 ,  0.860629  ,  1.1589137 ,  0.3401031 ,\n",
       "        4.464514  ,  5.553088  ,  2.7849126 ,  0.4295089 ,  0.7955613 ,\n",
       "        0.82697415,  0.8918342 ,  0.9390183 ,  0.7282005 ,  1.0255004 ,\n",
       "        6.0939717 ,  2.2791307 ,  4.348677  ,  1.9713936 ,  1.2147585 ,\n",
       "        0.85896915,  0.9205266 ,  0.8605279 ,  0.8025292 ,  0.88486797,\n",
       "        1.1065257 ,  6.8664513 ,  3.0412977 ,  4.765931  ,  2.5612364 ,\n",
       "        0.9408757 ,  0.8794874 ,  0.9394224 ,  0.95424795,  0.9064508 ,\n",
       "        1.0177066 ,  1.1476529 ,  1.5042279 ,  5.673826  ,  3.6327436 ,\n",
       "        4.394464  ,  5.0027747 ,  0.788056  ,  0.7338293 ,  0.9923111 ,\n",
       "        1.2418675 ,  1.1629711 ,  1.1521128 ,  2.201069  ,  4.5780883 ,\n",
       "        3.1314595 ,  4.32295   ,  7.060004  ,  3.3800218 ,  1.7451864 ,\n",
       "        0.8979375 ,  0.8889321 ,  1.0790741 ,  1.2747946 ,  1.7683957 ,\n",
       "        1.9494357 ,  3.2632527 ,  7.553563  ,  9.058143  ,  9.455818  ,\n",
       "        7.7370353 ,  2.5714886 ,  2.699057  ,  0.7672321 ,  1.1223042 ,\n",
       "        0.9393774 ,  1.7937459 ,  3.0966582 ,  4.5319457 ,  5.212428  ,\n",
       "        8.357827  , 11.6870365 ,  9.179885  ,  6.3687973 ,  5.0064006 ,\n",
       "        3.605458  ,  0.6742349 ,  2.5254536 ,  0.9599917 ,  2.5207045 ,\n",
       "        4.5849996 ,  5.0139976 ,  6.006081  ,  9.005126  , 12.563613  ,\n",
       "        8.888047  ,  6.049437  ,  6.1694045 ,  2.7848244 ,  3.495323  ,\n",
       "        1.9648453 ,  2.862961  ,  3.173499  ,  4.689549  ,  5.74043   ,\n",
       "        8.501381  ,  8.663736  ,  5.5694222 ,  2.5759342 ,  2.1983557 ,\n",
       "        1.5882186 ,  3.0879672 ,  1.5483674 ,  3.4458165 ,  2.3987484 ,\n",
       "        3.6616433 ,  2.3429987 ,  2.17519   ,  2.2933064 ,  1.7193117 ,\n",
       "        1.476149  ,  1.220099  ,  1.1454843 ,  2.4114716 ,  1.0838981 ,\n",
       "        1.341449  ,  1.2302253 ,  3.8600104 ,  1.6050217 ,  1.7795691 ,\n",
       "        1.8442996 ,  1.7490542 ,  1.4787519 ,  1.1929362 ,  1.0996832 ,\n",
       "        1.0914301 ,  0.6879858 ,  1.1574895 ,  2.6999068 ,  1.7343862 ,\n",
       "        1.6695265 ,  1.73117   ,  1.4884422 ,  1.4632063 ,  1.35591   ,\n",
       "        1.1387478 ,  1.0622706 ,  0.9314023 ,  1.5870647 ,  4.089388  ,\n",
       "        3.979952  ,  1.703627  ,  1.7139716 ,  1.5299217 ,  1.4269433 ,\n",
       "        1.2163075 ,  1.0137798 ,  1.0092827 ,  0.9035486 ,  3.0249276 ,\n",
       "        4.2788315 ,  5.081472  ,  1.4011638 ,  1.6763457 ,  1.5582527 ,\n",
       "        1.4307963 ,  1.2400343 ,  1.0559844 ,  0.939089  ,  0.9108082 ,\n",
       "        2.372995  ,  4.2485013 ,  4.861461  ,  1.4415107 ,  1.5684022 ,\n",
       "        1.5681411 ,  1.4498483 ,  1.265128  ,  1.0937952 ,  0.9642768 ,\n",
       "        0.92606086,  1.3494018 ,  1.2777305 ,  2.4352496 ,  1.4490235 ,\n",
       "        1.6197897 ,  1.5697141 ,  1.4594961 ,  1.2849416 ,  1.1294297 ,\n",
       "        0.99363285,  0.926931  ,  1.4983475 ,  1.6000369 ,  1.8497999 ,\n",
       "        1.6118431 ,  1.4647135 ,  1.2996256 ,  1.1513624 ,  1.0241829 ,\n",
       "        1.5587139 ,  1.6583184 ,  1.5577694 ,  1.4592549 ,  1.3076276 ,\n",
       "        1.1727375 ,  1.050795  ,  0.690295  ,  1.5474076 ,  1.4288037 ,\n",
       "        1.4157428 ,  1.5682148 ,  1.2096406 ,  1.4016674 ,  1.8638252 ,\n",
       "        1.6977345 ,  1.750093  ,  1.890126  ,  2.5626678 ,  1.880923  ],\n",
       "      dtype=float32)"
      ]
     },
     "execution_count": 25,
     "metadata": {},
     "output_type": "execute_result"
    }
   ],
   "source": [
    "myarray = np.array(dataset.GetRasterBand(1).ReadAsArray())\n",
    "myarray[myarray!=-9999]"
   ]
  },
  {
   "cell_type": "code",
   "execution_count": null,
   "metadata": {},
   "outputs": [],
   "source": []
  }
 ],
 "metadata": {
  "kernelspec": {
   "display_name": "Python 3.8.5 64-bit ('py38': conda)",
   "language": "python",
   "name": "python38564bitpy38condad2b4b3a608124f239fbe562baf5b9637"
  },
  "language_info": {
   "codemirror_mode": {
    "name": "ipython",
    "version": 3
   },
   "file_extension": ".py",
   "mimetype": "text/x-python",
   "name": "python",
   "nbconvert_exporter": "python",
   "pygments_lexer": "ipython3",
   "version": "3.8.5"
  }
 },
 "nbformat": 4,
 "nbformat_minor": 2
}

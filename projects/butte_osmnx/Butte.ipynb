{
 "cells": [
  {
   "cell_type": "code",
   "execution_count": 3,
   "metadata": {},
   "outputs": [],
   "source": [
    "import numpy as np\n",
    "import pandas as pd\n",
    "import geopandas as gpd\n",
    "import osmnx as ox"
   ]
  },
  {
   "cell_type": "markdown",
   "metadata": {},
   "source": [
    "### OSMnx"
   ]
  },
  {
   "cell_type": "code",
   "execution_count": 5,
   "metadata": {},
   "outputs": [
    {
     "data": {
      "text/plain": [
       "<AxesSubplot:>"
      ]
     },
     "execution_count": 5,
     "metadata": {},
     "output_type": "execute_result"
    },
    {
     "data": {
      "image/png": "[encoded data removed]",
      "text/plain": [
       "<Figure size 432x288 with 1 Axes>"
      ]
     },
     "metadata": {
      "needs_background": "light"
     },
     "output_type": "display_data"
    }
   ],
   "source": [
    "### get Butte county boundary\n",
    "ca_counties = gpd.read_file('network_inputs/ca-county-boundaries/CA_Counties/CA_Counties_TIGER2016.shp')\n",
    "butte = ca_counties[ca_counties['NAME']=='Butte']\n",
    "butte.plot()"
   ]
  },
  {
   "cell_type": "code",
   "execution_count": 6,
   "metadata": {},
   "outputs": [],
   "source": [
    "### Download and clean data using OSMnx: drive and service\n",
    "# butte_g = ox.graph_from_polygon(butte.to_crs('epsg:4326')['geometry'].iloc[0], network_type='drive_service')\n",
    "\n",
    "### Download and clean data using OSMnx: drive only\n",
    "butte_g = ox.graph_from_polygon(butte.to_crs('epsg:4326')['geometry'].iloc[0], network_type='drive')\n",
    "butte_g = ox.utils_graph.get_largest_component(butte_g, strongly=True)"
   ]
  },
  {
   "cell_type": "code",
   "execution_count": 12,
   "metadata": {},
   "outputs": [
    {
     "name": "stdout",
     "output_type": "stream",
     "text": [
      "(13746, 6) (33073, 15)\n"
     ]
    }
   ],
   "source": [
    "### Nodes and Edges GDF\n",
    "### Drive and service: (17220, 6) (41841, 17)\n",
    "### Drive only: (13746, 6) (33077, 15)\n",
    "butte_nodes, butte_edges = ox.graph_to_gdfs(butte_g2)\n",
    "print(butte_nodes.shape, butte_edges.shape)\n",
    "butte_nodes.to_csv('network_inputs/butte_nodes_drive.csv', index=False)\n",
    "butte_edges.to_csv('network_inputs/butte_edges_drive.csv', index=False)"
   ]
  },
  {
   "cell_type": "code",
   "execution_count": 13,
   "metadata": {},
   "outputs": [],
   "source": [
    "### add id to node\n",
    "butte_nodes = pd.read_csv('network_inputs/butte_nodes_drive.csv')\n",
    "butte_nodes['nid'] = np.arange(butte_nodes.shape[0])\n",
    "butte_nodes['lon'] = butte_nodes['x']\n",
    "butte_nodes['lat'] = butte_nodes['y']\n",
    "butte_nodes[['nid', 'osmid', 'lon', 'lat']].to_csv('network_inputs/butte_nodes_sim.csv', index=False)\n",
    "### Further process\n",
    "butte_edges = pd.read_csv('network_inputs/butte_edges_drive.csv')\n",
    "butte_edges.head()\n",
    "butte_edges['type'] = butte_edges['highway']\n",
    "butte_edges['type'] = np.where(butte_edges['highway']==\"['residential', 'tertiary']\", 'residential', butte_edges['type'])\n",
    "butte_edges['type'] = np.where(butte_edges['highway']==\"['trunk', 'motorway']\", 'motorway', butte_edges['type'])\n",
    "butte_edges['type'] = np.where(butte_edges['highway']==\"['tertiary', 'unclassified']\", 'unclassified', butte_edges['type'])\n",
    "butte_edges['type'] = np.where(butte_edges['highway']==\"['residential', 'unclassified']\", 'unclassified', butte_edges['type'])\n",
    "# butte_edges['type'].unique()\n",
    "### max speed\n",
    "butte_edges['maxmph'] = 25*0.8\n",
    "butte_edges['maxmph'] = np.where(butte_edges['type'].isin(['motorway', 'motorway_link']), 55, butte_edges['maxmph'])\n",
    "butte_edges['maxmph'] = np.where(butte_edges['type'].isin(['primary', 'primary_link']), 55, butte_edges['maxmph'])\n",
    "butte_edges['maxmph'] = np.where(butte_edges['type'].isin(['secondary', 'secondary_link']), 25, butte_edges['maxmph'])\n",
    "butte_edges['maxmph'] = np.where(butte_edges['type'].isin(['tertiary', 'tertiary_link']), 25, butte_edges['maxmph'])\n",
    "### lanes\n",
    "butte_edges['lanes'] = 1\n",
    "butte_edges['lanes'] = np.where(butte_edges['type'].isin(['motorway', 'motorway_link']), 2, butte_edges['lanes'])\n",
    "butte_edges['lanes'] = np.where(butte_edges['type'].isin(['primary', 'primary_link']), 2, butte_edges['lanes'])\n",
    "butte_edges['lanes'] = np.where(butte_edges['type'].isin(['secondary', 'secondary_link']), 2, butte_edges['lanes'])\n",
    "butte_edges['lanes'] = np.where(butte_edges['type'].isin(['tertiary', 'tertiary_link']), 2, butte_edges['lanes'])\n",
    "### edge_id, start and end node\n",
    "butte_edges['eid'] = np.arange(butte_edges.shape[0])\n",
    "butte_edges = butte_edges.merge(butte_nodes[['nid', 'osmid']], how='left', left_on='u', right_on='osmid')\n",
    "butte_edges = butte_edges.merge(butte_nodes[['nid', 'osmid']], how='left', left_on='v', right_on='osmid', suffixes=['_s', '_e'])\n",
    "butte_edges[['eid', 'nid_s', 'nid_e', 'length', 'maxmph', 'lanes', 'geometry']].to_csv(\n",
    "    'network_inputs/butte_edges_sim.csv', index=False)"
   ]
  },
  {
   "cell_type": "markdown",
   "metadata": {},
   "source": [
    "### CTM"
   ]
  },
  {
   "cell_type": "code",
   "execution_count": 59,
   "metadata": {},
   "outputs": [],
   "source": [
    "from shapely.geometry import Point\n",
    "from collections import Counter\n",
    "\n",
    "### Load nodes and eges\n",
    "butte_nodes = pd.read_csv('network_inputs/butte_nodes_drive.csv')\n",
    "butte_nodes = gpd.GeoDataFrame(butte_nodes, crs='epsg:4326', geometry=[Point(xy) for xy in zip(butte_nodes.x, butte_nodes.y)])\n",
    "butte_edges = pd.read_csv('network_inputs/butte_edges_drive.csv')"
   ]
  },
  {
   "cell_type": "code",
   "execution_count": 75,
   "metadata": {},
   "outputs": [
    {
     "data": {
      "text/plain": [
       "(2887, 15)"
      ]
     },
     "execution_count": 75,
     "metadata": {},
     "output_type": "execute_result"
    }
   ],
   "source": [
    "### Read city boundary\n",
    "ca_cities = gpd.read_file('ca-places-boundaries/CA_Places_TIGER2016.shp')\n",
    "paradise = ca_cities.loc[ca_cities['NAMELSAD']=='Paradise town', 'geometry'].to_crs('epsg:3857').buffer(300).to_crs('epsg:4326').iloc[0]\n",
    "\n",
    "spatial_index = butte_nodes.sindex\n",
    "possible_matches_index = list(spatial_index.intersection(paradise.bounds))\n",
    "possible_matches = butte_nodes.iloc[possible_matches_index]\n",
    "paradise_nodes = possible_matches[possible_matches.intersects(paradise)].reset_index(drop=True)\n",
    "# paradise_nodes.to_csv('network_inputs/paradise_nodes.csv', index=False)\n",
    "# display(paradise_nodes.head())\n",
    "\n",
    "regional_route_files = ['skyway_nodes', 'neal_nodes', 'clark_nodes', 'pentz_nodes', 'CA70_nodes', 'CA70_oroville_nodes', 'CA149_nodes']\n",
    "regional_nodes_list = []\n",
    "for file in regional_route_files:\n",
    "    regional_route_nodes = pd.read_csv('network_inputs/{}.csv'.format(file))\n",
    "    regional_nodes_list.append(regional_route_nodes)\n",
    "regional_nodes = pd.concat(regional_nodes_list)\n",
    "\n",
    "potential_ctm_nodes = list(set(\n",
    "    paradise_nodes['osmid'].values.tolist() + \n",
    "    regional_nodes['osmid'].values.tolist()))\n",
    "\n",
    "### Remove small branch roads\n",
    "undirected_nodes = pd.DataFrame(np.sort(butte_edges[['u', 'v']].values, axis=1), columns=[['u', 'v']]).drop_duplicates()\n",
    "node_counts = Counter(undirected_nodes.values.flatten().tolist())\n",
    "single_count_nodes = [n for n, v in node_counts.items() if v==1]\n",
    "# print(len(node_counts), len(single_count_nodes))\n",
    "\n",
    "# ### keep type\n",
    "ctm_edges = butte_edges.copy().loc[\n",
    "    ~(butte_edges['highway'].isin(['residential', 'living_street']) & (\n",
    "        (butte_edges['u'].isin(single_count_nodes)) |\n",
    "        (butte_edges['v'].isin(single_count_nodes)))\n",
    "     ) & (\n",
    "    butte_edges['u'].isin(potential_ctm_nodes)) & (\n",
    "    butte_edges['v'].isin(potential_ctm_nodes))]\n",
    "ctm_edges.to_csv('network_inputs/butte_ctm_edges.csv', index=False)\n",
    "ctm_edges.shape"
   ]
  },
  {
   "cell_type": "markdown",
   "metadata": {},
   "source": [
    "### Demand"
   ]
  },
  {
   "cell_type": "code",
   "execution_count": 14,
   "metadata": {},
   "outputs": [],
   "source": [
    "import random \n",
    "import numpy as np\n",
    "import pandas as pd\n",
    "import geopandas as gpd\n",
    "import matplotlib.pyplot as plt\n",
    "from scipy.spatial.distance import cdist \n",
    "\n",
    "from shapely import wkt \n",
    "from shapely.geometry import Point"
   ]
  },
  {
   "cell_type": "code",
   "execution_count": 15,
   "metadata": {},
   "outputs": [],
   "source": [
    "### node file\n",
    "nodes_df = pd.read_csv('network_inputs/butte_nodes_drive.csv')\n",
    "nodes_gdf = gpd.GeoDataFrame(nodes_df, geometry=[Point(xy) for xy in zip(nodes_df.x, nodes_df.y)], crs='epsg:4326').to_crs('epsg:3857')\n",
    "\n",
    "### city boundary\n",
    "cities = gpd.read_file('network_inputs/ca-places-boundaries/CA_Places_TIGER2016.shp').to_crs('epsg:3857')\n",
    "### individual cities\n",
    "paradise = cities[cities['NAMELSAD']=='Paradise town'].copy()\n",
    "magalia = cities[cities['NAMELSAD']=='Magalia CDP'].copy()\n",
    "chico = cities[cities['NAMELSAD']=='Chico city'].copy()\n",
    "oroville = cities.loc[cities['NAME'].isin(['Palermo', 'Oroville East', 'South Oroville', 'Kelly Ridge', 'Oroville', 'Thermalito'])].copy()\n",
    "\n",
    "### parcel file\n",
    "parcels = gpd.read_file('demand_inputs/BCAG_GIS_Request/parcel/parcel.shp').to_crs('epsg:3857')\n",
    "\n",
    "### evacuation zone\n",
    "evac_zones = gpd.read_file('demand_inputs/digitized_evacuation_zone/digitized_evacuation_zone.shp').to_crs('epsg:3857')"
   ]
  },
  {
   "cell_type": "code",
   "execution_count": 16,
   "metadata": {},
   "outputs": [
    {
     "data": {
      "text/plain": [
       "90.89957966542207"
      ]
     },
     "execution_count": 16,
     "metadata": {},
     "output_type": "execute_result"
    }
   ],
   "source": [
    "evac_zones_test = evac_zones.loc[evac_zones['id']<=14].copy()\n",
    "evac_zones_test.to_crs('epsg:3857')['geometry'].unary_union.area/1e6\n",
    "# evac_zones"
   ]
  },
  {
   "cell_type": "code",
   "execution_count": 17,
   "metadata": {},
   "outputs": [
    {
     "data": {
      "text/plain": [
       "LANDUSE\n",
       "RS    2655\n",
       "RV     609\n",
       "RZ    6811\n",
       "dtype: int64"
      ]
     },
     "execution_count": 17,
     "metadata": {},
     "output_type": "execute_result"
    }
   ],
   "source": [
    "### Residential parcels in Paradise\n",
    "### did not consider Magalia and needs to be changed in the future\n",
    "### did not consider all land use types\n",
    "\n",
    "### While the pre-fire population of Paradise was an estimated 26,800, according to the U.S. 2010 Census, a door-to-door survey conducted in April of this year revealed only 2,034 residents remain\n",
    "### https://sf.curbed.com/2019/7/12/20692079/town-destroyed-by-pg-e-fire-loses-92-percent-of-its-population\n",
    "paradise_parcels = parcels.loc[(parcels['JURISDICTI']=='Paradise') & (parcels['LANDUSE'].isin(['RZ', 'RV', 'RS']))].copy()\n",
    "paradise_parcels.groupby('LANDUSE').size()"
   ]
  },
  {
   "cell_type": "code",
   "execution_count": 18,
   "metadata": {},
   "outputs": [
    {
     "data": {
      "text/html": [
       "<div>\n",
       "<style scoped>\n",
       "    .dataframe tbody tr th:only-of-type {\n",
       "        vertical-align: middle;\n",
       "    }\n",
       "\n",
       "    .dataframe tbody tr th {\n",
       "        vertical-align: top;\n",
       "    }\n",
       "\n",
       "    .dataframe thead th {\n",
       "        text-align: right;\n",
       "    }\n",
       "</style>\n",
       "<table border=\"1\" class=\"dataframe\">\n",
       "  <thead>\n",
       "    <tr style=\"text-align: right;\">\n",
       "      <th></th>\n",
       "      <th>node_id</th>\n",
       "      <th>hh_cnts</th>\n",
       "    </tr>\n",
       "  </thead>\n",
       "  <tbody>\n",
       "    <tr>\n",
       "      <th>0</th>\n",
       "      <td>86370139</td>\n",
       "      <td>2</td>\n",
       "    </tr>\n",
       "    <tr>\n",
       "      <th>1</th>\n",
       "      <td>86370151</td>\n",
       "      <td>16</td>\n",
       "    </tr>\n",
       "    <tr>\n",
       "      <th>2</th>\n",
       "      <td>86370157</td>\n",
       "      <td>7</td>\n",
       "    </tr>\n",
       "    <tr>\n",
       "      <th>3</th>\n",
       "      <td>86370172</td>\n",
       "      <td>4</td>\n",
       "    </tr>\n",
       "    <tr>\n",
       "      <th>4</th>\n",
       "      <td>86370389</td>\n",
       "      <td>5</td>\n",
       "    </tr>\n",
       "  </tbody>\n",
       "</table>\n",
       "</div>"
      ],
      "text/plain": [
       "    node_id  hh_cnts\n",
       "0  86370139        2\n",
       "1  86370151       16\n",
       "2  86370157        7\n",
       "3  86370172        4\n",
       "4  86370389        5"
      ]
     },
     "execution_count": 18,
     "metadata": {},
     "output_type": "execute_result"
    }
   ],
   "source": [
    "### Map residential parcels in Paradise to nodes\n",
    "paradise_parcels['centroid'] = paradise_parcels.apply(lambda x: x['geometry'].centroid, axis=1)\n",
    "paradise_parcels = paradise_parcels.set_geometry('centroid')\n",
    "paradise_parcels['c_x'] = paradise_parcels['centroid'].x\n",
    "paradise_parcels['c_y'] = paradise_parcels['centroid'].y\n",
    "nodes_xy = np.array([nodes_gdf['geometry'].x.values, nodes_gdf['geometry'].y.values]).transpose()\n",
    "nodes_osmid = nodes_gdf['osmid'].values\n",
    "\n",
    "def get_closest_node(parcel_x, parcel_y):\n",
    "    return nodes_osmid[cdist([(parcel_x, parcel_y)], nodes_xy, 'euclidean').argmin()]\n",
    "\n",
    "paradise_parcels['closest_node'] = paradise_parcels.apply(lambda x: get_closest_node(x['c_x'], x['c_y']), axis=1)\n",
    "nodes_evac_origins = paradise_parcels.groupby('closest_node').size().reset_index().rename(columns={'closest_node': 'node_id', 0: 'hh_cnts'})\n",
    "nodes_evac_origins.head()"
   ]
  },
  {
   "cell_type": "code",
   "execution_count": 19,
   "metadata": {},
   "outputs": [
    {
     "data": {
      "text/html": [
       "<div>\n",
       "<style scoped>\n",
       "    .dataframe tbody tr th:only-of-type {\n",
       "        vertical-align: middle;\n",
       "    }\n",
       "\n",
       "    .dataframe tbody tr th {\n",
       "        vertical-align: top;\n",
       "    }\n",
       "\n",
       "    .dataframe thead th {\n",
       "        text-align: right;\n",
       "    }\n",
       "</style>\n",
       "<table border=\"1\" class=\"dataframe\">\n",
       "  <thead>\n",
       "    <tr style=\"text-align: right;\">\n",
       "      <th></th>\n",
       "      <th>hh_cnts</th>\n",
       "    </tr>\n",
       "    <tr>\n",
       "      <th>evac_zone</th>\n",
       "      <th></th>\n",
       "    </tr>\n",
       "  </thead>\n",
       "  <tbody>\n",
       "    <tr>\n",
       "      <th>-1</th>\n",
       "      <td>84</td>\n",
       "    </tr>\n",
       "    <tr>\n",
       "      <th>1</th>\n",
       "      <td>1101</td>\n",
       "    </tr>\n",
       "    <tr>\n",
       "      <th>2</th>\n",
       "      <td>1051</td>\n",
       "    </tr>\n",
       "    <tr>\n",
       "      <th>3</th>\n",
       "      <td>870</td>\n",
       "    </tr>\n",
       "    <tr>\n",
       "      <th>4</th>\n",
       "      <td>1147</td>\n",
       "    </tr>\n",
       "  </tbody>\n",
       "</table>\n",
       "</div>"
      ],
      "text/plain": [
       "           hh_cnts\n",
       "evac_zone         \n",
       "-1              84\n",
       " 1            1101\n",
       " 2            1051\n",
       " 3             870\n",
       " 4            1147"
      ]
     },
     "execution_count": 19,
     "metadata": {},
     "output_type": "execute_result"
    }
   ],
   "source": [
    "### assign an evacuation zone to each evacuation origin\n",
    "nodes_evac_origins_gdf = nodes_gdf.merge(nodes_evac_origins, how='right', right_on='node_id', left_on='osmid')\n",
    "nodes_evac_origins_sindex = nodes_evac_origins_gdf.sindex\n",
    "nodes_evac_origins_gdf['evac_zone'] = -1\n",
    "\n",
    "for zone in evac_zones.itertuples():\n",
    "    zone_id = getattr(zone, 'id')\n",
    "    zone_geom = getattr(zone, 'geometry')\n",
    "    coarse_node_ids = list(nodes_evac_origins_sindex.intersection(zone_geom.bounds))\n",
    "    coarse_nodes = nodes_evac_origins_gdf.iloc[coarse_node_ids]\n",
    "    precise_nodes = coarse_nodes[coarse_nodes.intersects(zone_geom)]\n",
    "    nodes_evac_origins_gdf['evac_zone'] = np.where(nodes_evac_origins_gdf['osmid'].isin(\n",
    "        precise_nodes['osmid']), zone_id, nodes_evac_origins_gdf['evac_zone'])\n",
    "nodes_evac_origins_gdf.groupby('evac_zone').agg({'hh_cnts': np.sum}).head()"
   ]
  },
  {
   "cell_type": "code",
   "execution_count": 20,
   "metadata": {},
   "outputs": [
    {
     "name": "stdout",
     "output_type": "stream",
     "text": [
      "['Oroville', 'Kelly Ridge', 'Oroville East', 'Palermo', 'South Oroville', 'Thermalito']\n",
      "(20116, 8)\n"
     ]
    },
    {
     "data": {
      "text/html": [
       "<div>\n",
       "<style scoped>\n",
       "    .dataframe tbody tr th:only-of-type {\n",
       "        vertical-align: middle;\n",
       "    }\n",
       "\n",
       "    .dataframe tbody tr th {\n",
       "        vertical-align: top;\n",
       "    }\n",
       "\n",
       "    .dataframe thead th {\n",
       "        text-align: right;\n",
       "    }\n",
       "</style>\n",
       "<table border=\"1\" class=\"dataframe\">\n",
       "  <thead>\n",
       "    <tr style=\"text-align: right;\">\n",
       "      <th></th>\n",
       "      <th>origin_osmid</th>\n",
       "      <th>evac_zone</th>\n",
       "      <th>hh_id</th>\n",
       "      <th>v_id</th>\n",
       "      <th>destin_osmid</th>\n",
       "      <th>dept_time_scen_1</th>\n",
       "      <th>dept_time_scen_2</th>\n",
       "      <th>dept_time_scen_3</th>\n",
       "    </tr>\n",
       "  </thead>\n",
       "  <tbody>\n",
       "    <tr>\n",
       "      <th>0</th>\n",
       "      <td>5383263023</td>\n",
       "      <td>11</td>\n",
       "      <td>0</td>\n",
       "      <td>0</td>\n",
       "      <td>86566253</td>\n",
       "      <td>0</td>\n",
       "      <td>21720</td>\n",
       "      <td>2647</td>\n",
       "    </tr>\n",
       "    <tr>\n",
       "      <th>1</th>\n",
       "      <td>5383263023</td>\n",
       "      <td>11</td>\n",
       "      <td>0</td>\n",
       "      <td>1</td>\n",
       "      <td>86566253</td>\n",
       "      <td>0</td>\n",
       "      <td>21720</td>\n",
       "      <td>2647</td>\n",
       "    </tr>\n",
       "    <tr>\n",
       "      <th>2</th>\n",
       "      <td>5383263023</td>\n",
       "      <td>11</td>\n",
       "      <td>1</td>\n",
       "      <td>0</td>\n",
       "      <td>86476869</td>\n",
       "      <td>0</td>\n",
       "      <td>21720</td>\n",
       "      <td>3285</td>\n",
       "    </tr>\n",
       "    <tr>\n",
       "      <th>3</th>\n",
       "      <td>5383263023</td>\n",
       "      <td>11</td>\n",
       "      <td>1</td>\n",
       "      <td>1</td>\n",
       "      <td>86476869</td>\n",
       "      <td>0</td>\n",
       "      <td>21720</td>\n",
       "      <td>3285</td>\n",
       "    </tr>\n",
       "    <tr>\n",
       "      <th>4</th>\n",
       "      <td>5383263023</td>\n",
       "      <td>11</td>\n",
       "      <td>2</td>\n",
       "      <td>0</td>\n",
       "      <td>86583515</td>\n",
       "      <td>0</td>\n",
       "      <td>21720</td>\n",
       "      <td>2853</td>\n",
       "    </tr>\n",
       "  </tbody>\n",
       "</table>\n",
       "</div>"
      ],
      "text/plain": [
       "   origin_osmid  evac_zone  hh_id  v_id  destin_osmid  dept_time_scen_1  \\\n",
       "0    5383263023         11      0     0      86566253                 0   \n",
       "1    5383263023         11      0     1      86566253                 0   \n",
       "2    5383263023         11      1     0      86476869                 0   \n",
       "3    5383263023         11      1     1      86476869                 0   \n",
       "4    5383263023         11      2     0      86583515                 0   \n",
       "\n",
       "   dept_time_scen_2  dept_time_scen_3  \n",
       "0             21720              2647  \n",
       "1             21720              2647  \n",
       "2             21720              3285  \n",
       "3             21720              3285  \n",
       "4             21720              2853  "
      ]
     },
     "metadata": {},
     "output_type": "display_data"
    }
   ],
   "source": [
    "### assume 100% of evacuee\n",
    "evac_pct = 1\n",
    "### assume 2 veh per household\n",
    "vphh = 2\n",
    "\n",
    "### make OD\n",
    "od_list = []\n",
    "for node in nodes_evac_origins_gdf[['osmid', 'hh_cnts', 'evac_zone']].copy().sample(frac=evac_pct).itertuples():\n",
    "    for hh_id in range(getattr(node, 'hh_cnts')):\n",
    "        for v_id in range(vphh):\n",
    "            od_list.append([getattr(node, 'osmid'), getattr(node, 'evac_zone'), hh_id, v_id])\n",
    "od = pd.DataFrame(od_list, columns=['origin_osmid', 'evac_zone', 'hh_id', 'v_id'])\n",
    "### only look at the first 14 zones\n",
    "od = od.loc[od['evac_zone']<=14]\n",
    "od_hh = od.drop_duplicates(subset=['origin_osmid', 'evac_zone', 'hh_id']).copy().drop(columns='v_id')\n",
    "\n",
    "### find osmids in Oroville or Chico\n",
    "print(oroville['NAME'].values.tolist()) ### Should be 6\n",
    "safe_area_dict = {'chico': chico.unary_union, 'oroville': oroville.unary_union}\n",
    "safe_nodes = dict()\n",
    "nodes_sindex = nodes_gdf.sindex\n",
    "for nm, geom in safe_area_dict.items():\n",
    "    coarse_node_ids = list(nodes_sindex.intersection(geom.bounds))\n",
    "    coarse_nodes = nodes_gdf.iloc[coarse_node_ids]\n",
    "    precise_nodes = coarse_nodes[coarse_nodes.intersects(geom)]\n",
    "    safe_nodes[nm] = precise_nodes['osmid'].values.tolist()\n",
    "#     print(nm, len(precise_nodes))\n",
    "\n",
    "### add destination\n",
    "chico_ratio = 0.7\n",
    "d_list = random.choices(\n",
    "    safe_nodes['chico'], k=int(od_hh.shape[0]*chico_ratio)) + random.choices(\n",
    "    safe_nodes['oroville'], k=od_hh.shape[0]-int(od_hh.shape[0]*chico_ratio))\n",
    "od_hh['destin_osmid'] = d_list\n",
    "### add departure time\n",
    "od_hh['dept_time_scen_1'] = 0\n",
    "od_hh['dept_time_scen_2'] = np.where(\n",
    "        od_hh['evac_zone'].isin([1,2,3]), 0, np.where(\n",
    "            od_hh['evac_zone'].isin([4,5,6,7,8]), 157*60, np.where(\n",
    "                od_hh['evac_zone'].isin([9,10,11,12,13,14]), (157+205)*60, 0)))\n",
    "od_hh['dept_time_scen_3'] = random.choices(\n",
    "    range(20*60, 1*3600), k=int(od_hh.shape[0]*0.05)) + random.choices(\n",
    "    range(1*3600, 2*3600), k=int(od_hh.shape[0]*0.55)) + random.choices(\n",
    "    range(2*3600, 3*3600), k=int(od_hh.shape[0]*0.35)) + random.choices(\n",
    "    range(3*3600, 6*3600), k=od_hh.shape[0]-int(od_hh.shape[0]*0.05)-int(od_hh.shape[0]*0.55)-int(od_hh.shape[0]*0.35))\n",
    "od = od.merge(od_hh, how='left', on=['origin_osmid', 'evac_zone', 'hh_id'])\n",
    "print(od.shape)\n",
    "display(od.head())\n",
    "\n",
    "od[['origin_osmid', 'destin_osmid', 'evac_zone', 'hh_id', 'v_id', 'dept_time_scen_1', 'dept_time_scen_2', 'dept_time_scen_3']].to_csv('demand_inputs/od.csv', index=False)"
   ]
  },
  {
   "cell_type": "code",
   "execution_count": null,
   "metadata": {},
   "outputs": [],
   "source": []
  }
 ],
 "metadata": {
  "kernelspec": {
   "display_name": "Python 3",
   "language": "python",
   "name": "python3"
  },
  "language_info": {
   "codemirror_mode": {
    "name": "ipython",
    "version": 3
   },
   "file_extension": ".py",
   "mimetype": "text/x-python",
   "name": "python",
   "nbconvert_exporter": "python",
   "pygments_lexer": "ipython3",
   "version": "3.7.7"
  }
 },
 "nbformat": 4,
 "nbformat_minor": 4
}

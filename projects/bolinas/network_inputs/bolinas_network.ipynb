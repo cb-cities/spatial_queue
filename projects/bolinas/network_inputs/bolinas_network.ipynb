{
 "metadata": {
  "language_info": {
   "codemirror_mode": {
    "name": "ipython",
    "version": 3
   },
   "file_extension": ".py",
   "mimetype": "text/x-python",
   "name": "python",
   "nbconvert_exporter": "python",
   "pygments_lexer": "ipython3",
   "version": "3.8.5-final"
  },
  "orig_nbformat": 2,
  "kernelspec": {
   "name": "python3",
   "display_name": "Python 3"
  }
 },
 "nbformat": 4,
 "nbformat_minor": 2,
 "cells": [
  {
   "cell_type": "code",
   "execution_count": 1,
   "metadata": {},
   "outputs": [],
   "source": [
    "import numpy as np\n",
    "import pandas as pd "
   ]
  },
  {
   "cell_type": "code",
   "execution_count": 9,
   "metadata": {},
   "outputs": [
    {
     "output_type": "display_data",
     "data": {
      "text/plain": "   edge_id_igraph  start_igraph  end_igraph edge_osmid  start_osm    end_osm  \\\n0               0            24          96   12170390  110348357  110387946   \n1               1            96          24   12170390  110387946  110348357   \n2               2            61          49   12170827  110350999  279230067   \n3               3            49          61   12170827  279230067  110350999   \n4               4            49          68   12170827  279230067  110351008   \n\n      length  lanes  maxmph oneway         type  capacity  crossings_stops  \\\n0  51.236627      1      25     no  residential       950                0   \n1  51.236627      1      25     no  residential       950                0   \n2  68.773751      1      25     no  residential       950                0   \n3  68.773751      1      25     no  residential       950                0   \n4  62.592123      1      25     no  residential       950                0   \n\n   traffic_signals                                           geometry  \\\n0                0  LINESTRING (-122.7088369 37.9005658,-122.70890...   \n1                0  LINESTRING (-122.709149 37.9009552,-122.708932...   \n2                0  LINESTRING (-122.6868786 37.9079217,-122.68722...   \n3                0  LINESTRING (-122.6875361 37.9081832,-122.68742...   \n4                0  LINESTRING (-122.6875361 37.9081832,-122.68757...   \n\n   start_sp  end_sp  traffic_signals_delay  crossings_stops_delay       fft  \n0        25      97                      0                    0.0  5.501436  \n1        97      25                      0                    0.0  5.501436  \n2        62      50                      0                    0.0  7.384452  \n3        50      62                      0                    0.0  7.384452  \n4        50      69                      0                    0.0  6.720712  ",
      "text/html": "<div>\n<style scoped>\n    .dataframe tbody tr th:only-of-type {\n        vertical-align: middle;\n    }\n\n    .dataframe tbody tr th {\n        vertical-align: top;\n    }\n\n    .dataframe thead th {\n        text-align: right;\n    }\n</style>\n<table border=\"1\" class=\"dataframe\">\n  <thead>\n    <tr style=\"text-align: right;\">\n      <th></th>\n      <th>edge_id_igraph</th>\n      <th>start_igraph</th>\n      <th>end_igraph</th>\n      <th>edge_osmid</th>\n      <th>start_osm</th>\n      <th>end_osm</th>\n      <th>length</th>\n      <th>lanes</th>\n      <th>maxmph</th>\n      <th>oneway</th>\n      <th>type</th>\n      <th>capacity</th>\n      <th>crossings_stops</th>\n      <th>traffic_signals</th>\n      <th>geometry</th>\n      <th>start_sp</th>\n      <th>end_sp</th>\n      <th>traffic_signals_delay</th>\n      <th>crossings_stops_delay</th>\n      <th>fft</th>\n    </tr>\n  </thead>\n  <tbody>\n    <tr>\n      <th>0</th>\n      <td>0</td>\n      <td>24</td>\n      <td>96</td>\n      <td>12170390</td>\n      <td>110348357</td>\n      <td>110387946</td>\n      <td>51.236627</td>\n      <td>1</td>\n      <td>25</td>\n      <td>no</td>\n      <td>residential</td>\n      <td>950</td>\n      <td>0</td>\n      <td>0</td>\n      <td>LINESTRING (-122.7088369 37.9005658,-122.70890...</td>\n      <td>25</td>\n      <td>97</td>\n      <td>0</td>\n      <td>0.0</td>\n      <td>5.501436</td>\n    </tr>\n    <tr>\n      <th>1</th>\n      <td>1</td>\n      <td>96</td>\n      <td>24</td>\n      <td>12170390</td>\n      <td>110387946</td>\n      <td>110348357</td>\n      <td>51.236627</td>\n      <td>1</td>\n      <td>25</td>\n      <td>no</td>\n      <td>residential</td>\n      <td>950</td>\n      <td>0</td>\n      <td>0</td>\n      <td>LINESTRING (-122.709149 37.9009552,-122.708932...</td>\n      <td>97</td>\n      <td>25</td>\n      <td>0</td>\n      <td>0.0</td>\n      <td>5.501436</td>\n    </tr>\n    <tr>\n      <th>2</th>\n      <td>2</td>\n      <td>61</td>\n      <td>49</td>\n      <td>12170827</td>\n      <td>110350999</td>\n      <td>279230067</td>\n      <td>68.773751</td>\n      <td>1</td>\n      <td>25</td>\n      <td>no</td>\n      <td>residential</td>\n      <td>950</td>\n      <td>0</td>\n      <td>0</td>\n      <td>LINESTRING (-122.6868786 37.9079217,-122.68722...</td>\n      <td>62</td>\n      <td>50</td>\n      <td>0</td>\n      <td>0.0</td>\n      <td>7.384452</td>\n    </tr>\n    <tr>\n      <th>3</th>\n      <td>3</td>\n      <td>49</td>\n      <td>61</td>\n      <td>12170827</td>\n      <td>279230067</td>\n      <td>110350999</td>\n      <td>68.773751</td>\n      <td>1</td>\n      <td>25</td>\n      <td>no</td>\n      <td>residential</td>\n      <td>950</td>\n      <td>0</td>\n      <td>0</td>\n      <td>LINESTRING (-122.6875361 37.9081832,-122.68742...</td>\n      <td>50</td>\n      <td>62</td>\n      <td>0</td>\n      <td>0.0</td>\n      <td>7.384452</td>\n    </tr>\n    <tr>\n      <th>4</th>\n      <td>4</td>\n      <td>49</td>\n      <td>68</td>\n      <td>12170827</td>\n      <td>279230067</td>\n      <td>110351008</td>\n      <td>62.592123</td>\n      <td>1</td>\n      <td>25</td>\n      <td>no</td>\n      <td>residential</td>\n      <td>950</td>\n      <td>0</td>\n      <td>0</td>\n      <td>LINESTRING (-122.6875361 37.9081832,-122.68757...</td>\n      <td>50</td>\n      <td>69</td>\n      <td>0</td>\n      <td>0.0</td>\n      <td>6.720712</td>\n    </tr>\n  </tbody>\n</table>\n</div>"
     },
     "metadata": {}
    }
   ],
   "source": [
    "# read edges file\n",
    "edges = pd.read_csv('osm_edges.csv')\n",
    "display(edges.head())\n",
    "\n",
    "edges_one_lane = edges.copy()\n",
    "edges_one_lane['lanes'] = 1\n",
    "edges_one_lane['capacity'] = 1900 * edges_one_lane\n",
    "edges_one_lane['eid'] = edges_one_lane['edge_id_igraph']\n",
    "edges_one_lane['nid_s'] = edges_one_lane['start_igraph']\n",
    "edges_one_lane['nid_e'] = edges_one_lane['end_igraph']\n",
    "edges_one_lane = edges_one_lane[['eid', 'nid_s', 'nid_e', 'length', 'lanes', 'maxmph', 'type', 'edge_osmid', 'start_osm', 'end_osm', 'geometry']]\n",
    "edges_one_lane.to_csv('bolinas_edges_sim.csv', index=False)"
   ]
  },
  {
   "cell_type": "code",
   "execution_count": 7,
   "metadata": {},
   "outputs": [
    {
     "output_type": "display_data",
     "data": {
      "text/plain": "   node_id_igraph  node_osmid         lon        lat signal\n0               0   110418187 -122.649946  37.902311    NaN\n1               1   110392834 -122.711450  37.901207    NaN",
      "text/html": "<div>\n<style scoped>\n    .dataframe tbody tr th:only-of-type {\n        vertical-align: middle;\n    }\n\n    .dataframe tbody tr th {\n        vertical-align: top;\n    }\n\n    .dataframe thead th {\n        text-align: right;\n    }\n</style>\n<table border=\"1\" class=\"dataframe\">\n  <thead>\n    <tr style=\"text-align: right;\">\n      <th></th>\n      <th>node_id_igraph</th>\n      <th>node_osmid</th>\n      <th>lon</th>\n      <th>lat</th>\n      <th>signal</th>\n    </tr>\n  </thead>\n  <tbody>\n    <tr>\n      <th>0</th>\n      <td>0</td>\n      <td>110418187</td>\n      <td>-122.649946</td>\n      <td>37.902311</td>\n      <td>NaN</td>\n    </tr>\n    <tr>\n      <th>1</th>\n      <td>1</td>\n      <td>110392834</td>\n      <td>-122.711450</td>\n      <td>37.901207</td>\n      <td>NaN</td>\n    </tr>\n  </tbody>\n</table>\n</div>"
     },
     "metadata": {}
    }
   ],
   "source": [
    "# read edges file\n",
    "nodes = pd.read_csv('osm_nodes.csv')\n",
    "display(nodes.head(2))\n",
    "\n",
    "nodes['nid'] = nodes['node_id_igraph']\n",
    "nodes['osmid'] = nodes['node_osmid']\n",
    "nodes[['nid', 'osmid', 'lon', 'lat']].to_csv('bolinas_nodes_sim.csv', index=False)"
   ]
  },
  {
   "cell_type": "code",
   "execution_count": null,
   "metadata": {},
   "outputs": [],
   "source": []
  }
 ]
}
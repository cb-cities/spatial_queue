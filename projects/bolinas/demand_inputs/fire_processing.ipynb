{
 "metadata": {
  "language_info": {
   "codemirror_mode": {
    "name": "ipython",
    "version": 3
   },
   "file_extension": ".py",
   "mimetype": "text/x-python",
   "name": "python",
   "nbconvert_exporter": "python",
   "pygments_lexer": "ipython3",
   "version": "3.8.5-final"
  },
  "orig_nbformat": 2,
  "kernelspec": {
   "name": "python38564bitpy38condad2b4b3a608124f239fbe562baf5b9637",
   "display_name": "Python 3.8.5 64-bit ('py38': conda)"
  }
 },
 "nbformat": 4,
 "nbformat_minor": 2,
 "cells": [
  {
   "cell_type": "code",
   "execution_count": 8,
   "metadata": {},
   "outputs": [],
   "source": [
    "import pandas as pd \n",
    "import numpy as np\n",
    "import rasterio as rio\n",
    "import rasterio.features\n",
    "from rasterio.warp import reproject\n",
    "import geopandas as gpd\n",
    "from shapely.wkt import loads\n",
    "from shapely.geometry import Point\n",
    "import matplotlib as mpl  \n",
    "from matplotlib import pyplot as plt\n",
    "from geocube.api.core import make_geocube\n",
    "from osgeo import gdal"
   ]
  },
  {
   "cell_type": "code",
   "execution_count": 22,
   "metadata": {},
   "outputs": [],
   "source": [
    "edges = pd.read_csv('../network_inputs/bolinas_edges_sim.csv')\n",
    "edges = gpd.GeoDataFrame(edges, crs='epsg:4326', geometry=edges['geometry'].map(loads))\n",
    "edges['start_x'] = edges['geometry'].apply(lambda x: x.coords[0][0])\n",
    "edges['end_x'] = edges['geometry'].apply(lambda x: x.coords[-1][0])\n",
    "\n",
    "edges1 = edges.loc[edges['start_x']<=edges['end_x']]\n",
    "cube = make_geocube(vector_data=edges1, measurements=[\"eid\"], resolution=(-0.0002, 0.0002))\n",
    "cube[\"eid\"].rio.to_raster(\"../network_inputs/bolinas_edges_raster1.tif\")\n",
    "\n",
    "edges2 = edges.loc[edges['start_x']>edges['end_x']]\n",
    "cube = make_geocube(vector_data=edges2, measurements=[\"eid\"], resolution=(-0.0002, 0.0002))\n",
    "cube[\"eid\"].rio.to_raster(\"../network_inputs/bolinas_edges_raster2.tif\")"
   ]
  },
  {
   "cell_type": "code",
   "execution_count": 43,
   "metadata": {},
   "outputs": [
    {
     "output_type": "stream",
     "name": "stdout",
     "text": [
      "(-122.74640000000001, 0.00019999999999998825, 0.0, 37.9804, 0.0, -0.0001999999999999982)\n-122.74640000000001 37.879200000000004 -122.59920000000001 37.9804 0.00019999999999998825 0.0001999999999999982\n"
     ]
    }
   ],
   "source": [
    "# resample fire to match road\n",
    "# open reference file and get resolution\n",
    "referenceFile = \"../network_inputs/bolinas_edges_raster1.tif\"\n",
    "reference = gdal.Open(referenceFile, 0)  # this opens the file in only reading mode\n",
    "referenceTrans = reference.GetGeoTransform()\n",
    "print(referenceTrans)\n",
    "x_min = referenceTrans[0]\n",
    "y_max = referenceTrans[3]\n",
    "x_res = referenceTrans[1]\n",
    "y_res = -referenceTrans[5]  # make sure this value is positive\n",
    "x_max = x_min + x_res*reference.RasterXSize\n",
    "y_min = y_max - y_res*reference.RasterYSize\n",
    "ref_proj = reference.GetProjection()\n",
    "print(x_min, y_min, x_max, y_max, x_res, y_res)\n",
    "\n",
    "\n",
    "for fire_id in [1,2,3]:\n",
    "    for hour_id in range(1,11):\n",
    "        # specify input and output filenames\n",
    "        inputFile = \"flamelength/flame_length_scen{}/{}.TIF\".format(fire_id, hour_id)\n",
    "        outputFile = \"flamelength/flame_length_resampled_raster/flame_length_f{}_h{}.tif\".format(fire_id, hour_id)\n",
    "        dataset = gdal.Open(inputFile)\n",
    "        # print(dataset)\n",
    "        # print(dataset.GetProjection())\n",
    "\n",
    "        # call gdal Warp\n",
    "        kwargs = {\"format\": \"GTiff\", \"xRes\": x_res, \"yRes\": y_res, \"dstSRS\": ref_proj}#, \"outputBounds\": [ x_min, y_min, x_max, y_max]}\n",
    "        ds = gdal.Warp(outputFile, dataset, outputBounds=[ x_min, y_min, x_max, y_max], **kwargs)\n",
    "        # print(ds.GetGeoTransform(), ds.RasterXSize, ds.RasterYSize)"
   ]
  },
  {
   "cell_type": "code",
   "execution_count": null,
   "metadata": {},
   "outputs": [],
   "source": []
  }
 ]
}
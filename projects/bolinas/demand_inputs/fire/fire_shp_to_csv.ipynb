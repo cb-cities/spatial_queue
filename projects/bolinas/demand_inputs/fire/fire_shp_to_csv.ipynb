{
 "cells": [
  {
   "cell_type": "code",
   "execution_count": 18,
   "metadata": {},
   "outputs": [],
   "source": [
    "import numpy as np\n",
    "import pandas as pd\n",
    "import geopandas as gpd\n",
    "from shapely.wkt import loads\n",
    "from shapely.geometry import Point\n",
    "import matplotlib.pyplot as plt\n",
    "%matplotlib inline"
   ]
  },
  {
   "cell_type": "code",
   "execution_count": 27,
   "metadata": {},
   "outputs": [],
   "source": [
    "### fire ignition locations\n",
    "fire_ignition_df = pd.DataFrame({\n",
    "    'point_id': [1, 2, 3],\n",
    "    'x': [-2296098.82090622, -2294638.88375515, -2294543.37384807],\n",
    "    'y': [1977182.58128173, 1977578.26518249, 1978765.31688476]\n",
    "})\n",
    "\n",
    "fire_ignition_gdf = gpd.GeoDataFrame(fire_ignition_df, crs=5070, geometry=[Point(xy) for xy in zip(fire_ignition_df.x, fire_ignition_df.y)]).to_crs(4326)\n",
    "fire_ignition_gdf.to_csv('fire_frontiers/ignition_points.csv', index=False)"
   ]
  },
  {
   "cell_type": "code",
   "execution_count": 47,
   "metadata": {},
   "outputs": [],
   "source": [
    "### Read shapefiles of fire frontier based on Paola's simulations\n",
    "### Keep only the largest polygon\n",
    "for point_id in [1, 2, 3]:\n",
    "    fire_gdf = gpd.read_file('Shapefile_Simulation_Paola/point{}_10Hr.shp'.format(point_id))\n",
    "    fire_gdf = fire_gdf[fire_gdf['Fire_Type']=='Expanding Fire'].reset_index(drop=True).to_crs(4326)\n",
    "    # p1_gdf['area'] = p1_gdf.area\n",
    "    ignition_buffer = fire_ignition_gdf.to_crs(5070).loc[fire_ignition_gdf['point_id']==point_id, 'geometry'].buffer(1).to_crs(4326).iloc[0]\n",
    "    fire_gdf.loc[fire_gdf.shape[0]] = [None, 'ignition_buffer', None, None, 900, None, None, ignition_buffer]\n",
    "    fire_gdf['geometry'] = fire_gdf.to_crs(5070).simplify(1).to_crs(4326)\n",
    "    fire_gdf.to_csv('fire_frontiers/point{}_10Hr_simplified.csv'.format(point_id), index=False)"
   ]
  },
  {
   "cell_type": "code",
   "execution_count": null,
   "metadata": {},
   "outputs": [],
   "source": []
  }
 ],
 "metadata": {
  "kernelspec": {
   "display_name": "Python [conda env:cities] *",
   "language": "python",
   "name": "conda-env-cities-py"
  },
  "language_info": {
   "codemirror_mode": {
    "name": "ipython",
    "version": 3
   },
   "file_extension": ".py",
   "mimetype": "text/x-python",
   "name": "python",
   "nbconvert_exporter": "python",
   "pygments_lexer": "ipython3",
   "version": "3.7.7"
  }
 },
 "nbformat": 4,
 "nbformat_minor": 4
}

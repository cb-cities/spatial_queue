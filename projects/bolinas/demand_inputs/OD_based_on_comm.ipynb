{
 "cells": [
  {
   "cell_type": "code",
   "execution_count": 1,
   "metadata": {},
   "outputs": [],
   "source": [
    "import numpy as np \n",
    "import pandas as pd\n",
    "import geopandas as gpd\n",
    "import shapely\n",
    "from shapely.wkt import loads\n",
    "import shapely.vectorized as sv \n",
    "from scipy.spatial.distance import cdist "
   ]
  },
  {
   "cell_type": "code",
   "execution_count": 2,
   "metadata": {},
   "outputs": [
    {
     "name": "stdout",
     "output_type": "stream",
     "text": [
      "   node_id_igraph  node_osmid         lon        lat signal  \\\n",
      "0               0   110418187 -122.649946  37.902311    NaN   \n",
      "1               1   110392834 -122.711450  37.901207    NaN   \n",
      "2               2   110460422 -122.701883  37.903178    NaN   \n",
      "3               3   110460424 -122.698763  37.899716    NaN   \n",
      "4               4   110397449 -122.637744  37.898467    NaN   \n",
      "\n",
      "                      geometry  \n",
      "0  POINT (-122.64995 37.90231)  \n",
      "1  POINT (-122.71145 37.90121)  \n",
      "2  POINT (-122.70188 37.90318)  \n",
      "3  POINT (-122.69876 37.89972)  \n",
      "4  POINT (-122.63774 37.89847)  \n",
      "   node_id_igraph  node_osmid         lon        lat signal  \\\n",
      "0               7   110421520 -122.686998  37.906398    NaN   \n",
      "1              11   110421540 -122.687898  37.904398    NaN   \n",
      "2              16   110366250 -122.685282  37.905177    NaN   \n",
      "3              17   110421553 -122.690031  37.904410    NaN   \n",
      "4              18   110421555 -122.691044  37.903766    NaN   \n",
      "\n",
      "                      geometry  \n",
      "0  POINT (-122.68700 37.90640)  \n",
      "1  POINT (-122.68790 37.90440)  \n",
      "2  POINT (-122.68528 37.90518)  \n",
      "3  POINT (-122.69003 37.90441)  \n",
      "4  POINT (-122.69104 37.90377)  \n"
     ]
    }
   ],
   "source": [
    "nodes_df = pd.read_csv('../network_inputs/osm_nodes.csv')\n",
    "nodes_gdf = gpd.GeoDataFrame(nodes_df, geometry=[shapely.geometry.Point(xy) for xy in zip(nodes_df.lon, nodes_df.lat)], crs='epsg:4326')\n",
    "print(nodes_gdf.head())\n",
    "visitor_nodes_df = pd.read_csv('../network_inputs/osm_nodes_visitor_parking.csv')\n",
    "visitor_nodes_gdf = gpd.GeoDataFrame(visitor_nodes_df, geometry=[shapely.geometry.Point(xy) for xy in zip(visitor_nodes_df.lon, visitor_nodes_df.lat)], crs='epsg:4326')\n",
    "print(visitor_nodes_gdf.head())"
   ]
  },
  {
   "cell_type": "code",
   "execution_count": 8,
   "metadata": {},
   "outputs": [
    {
     "name": "stdout",
     "output_type": "stream",
     "text": [
      "(595, 12)\n",
      "   index                                                WKT  \\\n",
      "0      7  POLYGON ((-122.705885636748 37.9437779330562,-...   \n",
      "1      8  POLYGON ((-122.705569630863 37.9429819296033,-...   \n",
      "2      9  POLYGON ((-122.70497783629 37.9414082901364,-1...   \n",
      "3     11  POLYGON ((-122.706323476 37.9451771536848,-122...   \n",
      "4     12  POLYGON ((-122.707857752019 37.9455569646437,-...   \n",
      "\n",
      "                                               WKT.1  Acres  UseCd  \\\n",
      "0  MULTIPOLYGON (((-122.705885636748 37.943777933...  0.504     11   \n",
      "1  MULTIPOLYGON (((-122.705569630863 37.942981929...  2.124     11   \n",
      "2  MULTIPOLYGON (((-122.70497783629 37.9414082901...  0.344     11   \n",
      "3  MULTIPOLYGON (((-122.706323476 37.945177153684...  4.146     11   \n",
      "4  MULTIPOLYGON (((-122.707857752019 37.945556964...  3.934     11   \n",
      "\n",
      "                  UseCdDesc    Parcel          AssessorSi     SHAPE_STAr  \\\n",
      "0  Single-Resid. - Improved  18810004  5855 STATE ROUTE 1   21985.887695   \n",
      "1  Single-Resid. - Improved  18810005  5775 STATE ROUTE 1   92541.282227   \n",
      "2  Single-Resid. - Improved  18810013  5715 STATE ROUTE 1   15023.558594   \n",
      "3  Single-Resid. - Improved  18810019  5935 STATE ROUTE 1  180602.876953   \n",
      "4  Single-Resid. - Improved  18810023  5955 STATE ROUTE 1  171378.310547   \n",
      "\n",
      "    SHAPE_STLe     Prop_ID                                           geometry  \\\n",
      "0   660.043465  188-100-04  POLYGON ((-122.70589 37.94378, -122.70621 37.9...   \n",
      "1  1226.858154  188-100-05  POLYGON ((-122.70557 37.94298, -122.70676 37.9...   \n",
      "2   526.733849  188-100-13  POLYGON ((-122.70498 37.94141, -122.70495 37.9...   \n",
      "3  2273.109752  188-100-19  POLYGON ((-122.70632 37.94518, -122.70656 37.9...   \n",
      "4  1683.015630  188-100-23  POLYGON ((-122.70786 37.94556, -122.70874 37.9...   \n",
      "\n",
      "                      centroid         c_x        c_y  closest_node  \n",
      "0  POINT (-122.70613 37.94406) -122.706126  37.944060     110396428  \n",
      "1  POINT (-122.70628 37.94326) -122.706284  37.943258     110396428  \n",
      "2  POINT (-122.70510 37.94116) -122.705100  37.941162     110396428  \n",
      "3  POINT (-122.70687 37.94439) -122.706872  37.944391     110396428  \n",
      "4  POINT (-122.70854 37.94581) -122.708544  37.945811     110396428  \n"
     ]
    },
    {
     "data": {
      "text/plain": [
       "(595, 16)"
      ]
     },
     "execution_count": 8,
     "metadata": {},
     "output_type": "execute_result"
    }
   ],
   "source": [
    "### Get the OSMid of the closest node to each parcel\n",
    "bolinas_parcels = pd.read_csv('parcels/parcels_bolinas/parcels_bolinas.csv')\n",
    "household_parcels = bolinas_parcels[bolinas_parcels['UseCd']==11].reset_index() ### only UseCd 11 has household size>0 (=1)\n",
    "household_parcels = gpd.GeoDataFrame(household_parcels, crs='epsg:4326',\n",
    "                                     geometry=household_parcels['WKT'].apply(loads))\n",
    "print(household_parcels.shape)\n",
    "\n",
    "household_parcels['centroid'] = household_parcels.apply(lambda x: x['geometry'].centroid, axis=1)\n",
    "household_parcels = household_parcels.set_geometry('centroid')\n",
    "household_parcels['c_x'] = household_parcels['centroid'].x\n",
    "household_parcels['c_y'] = household_parcels['centroid'].y\n",
    "nodes_xy = np.array([nodes_gdf['geometry'].x.values, nodes_gdf['geometry'].y.values]).transpose()\n",
    "nodes_osmid = nodes_gdf['node_osmid'].values\n",
    "\n",
    "def get_closest_node(parcel_x, parcel_y):\n",
    "    return nodes_osmid[cdist([(parcel_x, parcel_y)], nodes_xy).argmin()]\n",
    "\n",
    "household_parcels['closest_node'] = household_parcels.apply(lambda x: get_closest_node(x['c_x'], x['c_y']), axis=1)\n",
    "print(household_parcels.head())\n",
    "household_parcels.shape\n",
    "# parcels_evac.to_csv(absolute_path+'/outputs/parcels_evac.csv', index=False)"
   ]
  },
  {
   "cell_type": "code",
   "execution_count": 18,
   "metadata": {},
   "outputs": [],
   "source": [
    "local_comm_dict = {\n",
    "    0: {'comm_nm': 'fire_radio', 'pct_pop': [5, 5, 5], 'info_rate': [150, 150, 150]},\n",
    "    1: {'comm_nm': 'ham_radio', 'pct_pop': [5, 5, 5], 'info_rate': [150, 150, 150]},\n",
    "    2: {'comm_nm': 'social_media', 'pct_pop': [20, 10, 0], 'info_rate': [300, 150, 0]},\n",
    "    3: {'comm_nm': 'code_red', 'pct_pop': [5, 5, 0], 'info_rate': [30, 15, 0]},\n",
    "    4: {'comm_nm': 'cell_phone', 'pct_pop': [30, 15, 0], 'info_rate': [45, 22.5, 0]},\n",
    "    5: {'comm_nm': 'door_to_door', 'pct_pop': [5, 30, 60], 'info_rate': [2.5, 2.5, 2.5]},\n",
    "    100: {'comm_nm': 'none', 'pct_pop': [30, 30, 30], 'info_rate': [0, 0, 0]}}\n",
    "visitor_comm_dict = {\n",
    "    2: {'comm_nm': 'social_media', 'pct_pop': [50, 25, 0], 'info_rate': [300, 150, 0]},\n",
    "    3: {'comm_nm': 'code_red', 'pct_pop': [25, 12.5, 0], 'info_rate': [30, 15, 0]},\n",
    "    4: {'comm_nm': 'cell_phone', 'pct_pop': [25, 12.5, 0], 'info_rate': [45, 22.5, 0]},\n",
    "    100: {'comm_nm': 'none', 'pct_pop': [0, 50, 100], 'info_rate': [0, 0, 0]}}\n",
    "\n",
    "commscen_id = 2\n",
    "random_seed = 0\n",
    "np.random.seed(random_seed)\n",
    "vphh = 2\n",
    "\n",
    "def assign_depttime(x, d):\n",
    "    rate = d[x['comm']]['info_rate'][commscen_id]/60\n",
    "    if rate == 0:\n",
    "        return 1e6\n",
    "    else:\n",
    "        scale = 1/rate\n",
    "        return np.random.gamma(x['event_cnt'], scale=scale)\n",
    "\n",
    "### local residents origin\n",
    "local_residents_origin = household_parcels['closest_node'].values.tolist()\n",
    "# Comm method trigger evacuation (not considering sight)\n",
    "local_residents_comm = np.random.choice([k for k in local_comm_dict.keys()], \n",
    "                                        p=[v['pct_pop'][commscen_id]/100 for v in local_comm_dict.values()],\n",
    "                                        size=len(local_residents_origin))\n",
    "local_residents_od_df = pd.DataFrame({'parcel': household_parcels['Parcel'].values.tolist(), 'origin_osmid': local_residents_origin, 'comm': local_residents_comm})\n",
    "local_residents_od_df = local_residents_od_df.sample(frac=1).reset_index(drop=True)\n",
    "local_residents_od_df['event_cnt'] = local_residents_od_df.groupby('comm').cumcount()\n",
    "local_residents_od_df['dept_time'] = local_residents_od_df.apply(lambda x: assign_depttime(x, local_comm_dict), axis=1)\n",
    "local_residents_od_df['type'] = 'local'\n",
    "\n",
    "\n",
    "### visitor origin\n",
    "visitor_cnts = 300 ### 500 vehicles\n",
    "visitor_vehicle_origin = np.random.choice(visitor_nodes_gdf['node_osmid'], size=visitor_cnts)\n",
    "visitor_vehicle_comm = np.random.choice([k for k in visitor_comm_dict.keys()], \n",
    "                                        p=[v['pct_pop'][commscen_id]/100 for v in visitor_comm_dict.values()],\n",
    "                                        size=len(visitor_vehicle_origin))\n",
    "visitor_vehicle_od_df = pd.DataFrame({'origin_osmid': visitor_vehicle_origin, 'comm': visitor_vehicle_comm})\n",
    "visitor_vehicle_od_df = visitor_vehicle_od_df.sample(frac=1).reset_index(drop=True)\n",
    "visitor_vehicle_od_df['event_cnt'] = visitor_vehicle_od_df.groupby('comm').cumcount()\n",
    "visitor_vehicle_od_df['dept_time'] = visitor_vehicle_od_df.apply(lambda x: assign_depttime(x, visitor_comm_dict), axis=1)\n",
    "visitor_vehicle_od_df['type'] = 'visitor'\n",
    "visitor_vehicle_od_df['parcel'] = None\n",
    "od_df = pd.concat([local_residents_od_df]*vphh+[visitor_vehicle_od_df])\n",
    "od_df['dept_time'] = np.round(od_df['dept_time'],0)\n",
    "od_df['destin_osmid'] = np.random.choice(['110360959', '110397253'], size=od_df.shape[0])\n",
    "od_df.to_csv('od_csv/resident_visitor_od_rs{}_commscen{}_vphh{}_visitor{}.csv'.format(random_seed, commscen_id, vphh, visitor_cnts), index=False)"
   ]
  },
  {
   "cell_type": "code",
   "execution_count": 71,
   "metadata": {},
   "outputs": [
    {
     "name": "stdout",
     "output_type": "stream",
     "text": [
      "0.19111111111111112\n"
     ]
    },
    {
     "data": {
      "text/plain": [
       "[<matplotlib.lines.Line2D at 0x11fe24c90>]"
      ]
     },
     "execution_count": 71,
     "metadata": {},
     "output_type": "execute_result"
    },
    {
     "data": {
      "image/png": "[encoded data removed]",
      "text/plain": [
       "<Figure size 432x288 with 1 Axes>"
      ]
     },
     "metadata": {
      "needs_background": "light"
     },
     "output_type": "display_data"
    }
   ],
   "source": [
    "import matplotlib.pyplot as plt\n",
    "print(np.max(od_df['dept_time'])/3600)\n",
    "od_plot = od_df.dropna(subset=['dept_time']).groupby('dept_time').size().reset_index().rename(columns={0:'dept_cnts'})\n",
    "plt.plot(od_plot['dept_time'], od_plot['dept_cnts'].cumsum())"
   ]
  },
  {
   "cell_type": "code",
   "execution_count": null,
   "metadata": {},
   "outputs": [],
   "source": []
  }
 ],
 "metadata": {
  "kernelspec": {
   "display_name": "Python 3",
   "language": "python",
   "name": "python3"
  },
  "language_info": {
   "codemirror_mode": {
    "name": "ipython",
    "version": 3
   },
   "file_extension": ".py",
   "mimetype": "text/x-python",
   "name": "python",
   "nbconvert_exporter": "python",
   "pygments_lexer": "ipython3",
   "version": "3.7.7"
  }
 },
 "nbformat": 4,
 "nbformat_minor": 4
}

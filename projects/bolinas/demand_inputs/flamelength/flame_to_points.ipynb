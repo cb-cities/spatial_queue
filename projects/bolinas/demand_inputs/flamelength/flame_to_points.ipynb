{
 "cells": [
  {
   "cell_type": "code",
   "execution_count": 42,
   "metadata": {},
   "outputs": [],
   "source": [
    "from osgeo import gdal\n",
    "from osgeo import ogr\n",
    "from osgeo import osr\n",
    "import numpy as np \n",
    "import pandas as pd "
   ]
  },
  {
   "cell_type": "code",
   "execution_count": 52,
   "metadata": {},
   "outputs": [
    {
     "name": "stdout",
     "output_type": "stream",
     "text": [
      "237\n",
      "705\n",
      "1442\n",
      "2017\n",
      "2738\n",
      "3427\n",
      "3928\n",
      "4306\n",
      "4612\n",
      "4946\n"
     ]
    }
   ],
   "source": [
    "### read tif and save transformed data\n",
    "# hour = 1\n",
    "firescen = 3\n",
    "all_points = []\n",
    "for hour in range(1,11):\n",
    "    gdal.Warp(\"flame_length_4326/firescen{}_hr{}_4326.TIF\".format(firescen, hour), \n",
    "              gdal.Open('flame_length_scen{}/{}.TIF'.format(firescen, hour)), \n",
    "              dstSRS='EPSG:4326')\n",
    "    src = gdal.Open(\"flame_length_4326/firescen{}_hr{}_4326.TIF\".format(firescen, hour))\n",
    "    ulx, xres, xskew, uly, yskew, yres  = src.GetGeoTransform()\n",
    "    lrx = ulx + (src.RasterXSize * xres)\n",
    "    lry = uly + (src.RasterYSize * yres)\n",
    "\n",
    "    def pixel2coord(col, row):\n",
    "        \"\"\"Returns global coordinates to pixel center using base-0 raster index\"\"\"\n",
    "        c, a, b, f, d, e = ulx, xres, xskew, uly, yskew, yres\n",
    "        xp = a * col + b * row + a * 0.5 + b * 0.5 + c\n",
    "        yp = d * col + e * row + d * 0.5 + e * 0.5 + f\n",
    "        return xp, yp\n",
    "\n",
    "    val, x_loc, y_loc = [], [], []\n",
    "    raster_array = src.GetRasterBand(1).ReadAsArray()\n",
    "    for x in range(src.RasterXSize):\n",
    "        for y in range(src.RasterYSize):\n",
    "            if raster_array[y, x]>0:\n",
    "                x_loc.append(x)\n",
    "                y_loc.append(y)\n",
    "                val.append(raster_array[y, x])\n",
    "    print(len(val))\n",
    "    x_coord, y_coord = pixel2coord(np.array(x_loc), np.array(y_loc))\n",
    "    point_df = pd.DataFrame({'lon': x_coord, 'lat': y_coord, 'flame_length': val})\n",
    "    point_df['t_hour'] = hour\n",
    "    all_points.append(point_df)\n",
    "#     point_df.to_csv('flame_length_point_4326/point_{}hr.csv'.format(hour))\n",
    "\n",
    "all_points_df = pd.concat(all_points).to_csv('flame_length_point_4326/point_firescen{}.csv'.format(firescen), index=False)"
   ]
  },
  {
   "cell_type": "code",
   "execution_count": null,
   "metadata": {},
   "outputs": [],
   "source": []
  }
 ],
 "metadata": {
  "kernelspec": {
   "display_name": "Python [conda env:cities] *",
   "language": "python",
   "name": "conda-env-cities-py"
  },
  "language_info": {
   "codemirror_mode": {
    "name": "ipython",
    "version": 3
   },
   "file_extension": ".py",
   "mimetype": "text/x-python",
   "name": "python",
   "nbconvert_exporter": "python",
   "pygments_lexer": "ipython3",
   "version": "3.7.7"
  }
 },
 "nbformat": 4,
 "nbformat_minor": 4
}

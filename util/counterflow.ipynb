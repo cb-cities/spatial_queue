{
 "cells": [
  {
   "cell_type": "code",
   "execution_count": 1,
   "metadata": {},
   "outputs": [],
   "source": [
    "import os\n",
    "import sys\n",
    "import pandas as pd \n",
    "import numpy as np \n",
    "import scipy.sparse as ssparse \n",
    "import scipy.io as sio \n",
    "\n",
    "sys.path.insert(0, '/Users/bingyu')\n",
    "from sp import interface "
   ]
  },
  {
   "cell_type": "code",
   "execution_count": 2,
   "metadata": {},
   "outputs": [
    {
     "name": "stdout",
     "output_type": "stream",
     "text": [
      "(15294, 15294), 37951\n"
     ]
    }
   ],
   "source": [
    "nodes_df0 = pd.read_csv('../projects/berkeley/network_inputs/osm_nodes.csv')\n",
    "links_df0 = pd.read_csv('../projects/berkeley/network_inputs/osm_edges.csv')\n",
    "# links_df0 = pd.read_csv('../projects/berkeley/network_inputs/modified_network_edges.csv')\n",
    "wgh = links_df0['length']\n",
    "row = links_df0['start_igraph']\n",
    "col = links_df0['end_igraph']\n",
    "assert max(np.max(row)+1, np.max(col)+1) == nodes_df0.shape[0], 'nodes and links dimension do not match, row {}, col {}, nodes {}'.format(np.max(row), np.max(col), nodes_df0.shape[0])\n",
    "g_coo = ssparse.coo_matrix((wgh, (row, col)), shape=(nodes_df0.shape[0], nodes_df0.shape[0]))\n",
    "print(\"({}, {}), {}\".format(g_coo.shape[0], g_coo.shape[1], len(g_coo.data)))\n",
    "sio.mmwrite('network_sparse.mtx', g_coo)\n",
    "# g_coo = sio.mmread(absolute_path+'/outputs/network_sparse.mtx'.format(folder))\n",
    "g = interface.readgraph(bytes('network_sparse.mtx', encoding='utf-8'))"
   ]
  },
  {
   "cell_type": "code",
   "execution_count": 3,
   "metadata": {},
   "outputs": [
    {
     "name": "stdout",
     "output_type": "stream",
     "text": [
      "2879.467138019012\n",
      "[(5525, 1543), (1543, 1186), (1186, 3978), (3978, 3977), (3977, 4558), (4558, 4377), (4377, 1228), (1228, 6428), (6428, 1231), (1231, 1232), (1232, 5864), (5864, 5863), (5863, 3477), (3477, 15068), (15068, 5267), (5267, 3505), (3505, 10685), (10685, 13193), (13193, 7626), (7626, 1626), (1626, 1623)]\n",
      "2889.4526853461275\n",
      "[(1623, 1626), (1626, 7626), (7626, 13193), (13193, 10685), (10685, 3505), (3505, 5267), (5267, 15068), (15068, 3477), (3477, 5863), (5863, 1234), (1234, 5864), (5864, 1232), (1232, 1231), (1231, 6428), (6428, 1228), (1228, 4377), (4377, 4558), (4558, 3977), (3977, 3978), (3978, 1186), (1186, 1543), (1543, 5525)]\n"
     ]
    }
   ],
   "source": [
    "### marin: 10185, 2598\n",
    "### spruce: 2160, 1626\n",
    "### shasta: 5525, 1623\n",
    "### oxfful: 14299, 9242\n",
    "### rose: 4864, 14299\n",
    "### cedar: 15068, 14483\n",
    "counterflow_start_igraph, counterflow_end_igraph = 5525, 1623 ### node_id_igraph\n",
    "counterflow_start_sp = counterflow_start_igraph + 1\n",
    "counterflow_end_sp = counterflow_end_igraph + 1\n",
    "\n",
    "### along counterflow\n",
    "sp_1 = g.dijkstra(counterflow_start_sp, counterflow_end_sp)\n",
    "sp_dist_1 = sp_1.distance(counterflow_end_sp)\n",
    "print(sp_dist_1)\n",
    "sp_route_1 = sp_1.route(counterflow_end_sp)\n",
    "path_1 = [(start_sp-1, end_sp-1) for (start_sp, end_sp) in sp_route_1]\n",
    "print(path_1)\n",
    "path_df_1 = pd.DataFrame(path_1, columns=['start_igraph', 'end_igraph'])\n",
    "path_df_1['along'] = 1\n",
    "\n",
    "### against counterflow\n",
    "sp_2 = g.dijkstra(counterflow_end_sp, counterflow_start_sp)\n",
    "sp_dist_2 = sp_2.distance(counterflow_start_sp)\n",
    "print(sp_dist_2)\n",
    "sp_route_2 = sp_2.route(counterflow_start_sp)\n",
    "path_2 = [(start_sp-1, end_sp-1) for (start_sp, end_sp) in sp_route_2]\n",
    "print(path_2)\n",
    "path_df_2 = pd.DataFrame(path_2, columns=['start_igraph', 'end_igraph'])\n",
    "path_df_2['along'] = 0\n",
    "\n",
    "counterflow_route = pd.concat([path_df_1, path_df_2])\n",
    "counterflow_route = pd.merge(counterflow_route, links_df0[['start_igraph', 'end_igraph', 'edge_id_igraph','geometry']], how='left', on=['start_igraph', 'end_igraph'])\n",
    "counterflow_route.to_csv('shasta.csv', index=False)"
   ]
  },
  {
   "cell_type": "code",
   "execution_count": null,
   "metadata": {},
   "outputs": [],
   "source": []
  }
 ],
 "metadata": {
  "kernelspec": {
   "display_name": "Python 3",
   "language": "python",
   "name": "python3"
  },
  "language_info": {
   "codemirror_mode": {
    "name": "ipython",
    "version": 3
   },
   "file_extension": ".py",
   "mimetype": "text/x-python",
   "name": "python",
   "nbconvert_exporter": "python",
   "pygments_lexer": "ipython3",
   "version": "3.7.7"
  }
 },
 "nbformat": 4,
 "nbformat_minor": 4
}

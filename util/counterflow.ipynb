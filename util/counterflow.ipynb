{
 "cells": [
  {
   "cell_type": "code",
   "execution_count": 1,
   "metadata": {},
   "outputs": [],
   "source": [
    "import os\n",
    "import sys\n",
    "import pandas as pd \n",
    "import numpy as np \n",
    "import scipy.sparse as ssparse \n",
    "import scipy.io as sio \n",
    "\n",
    "sys.path.insert(0, '/Users/bingyu')\n",
    "from sp import interface "
   ]
  },
  {
   "cell_type": "code",
   "execution_count": 2,
   "metadata": {},
   "outputs": [
    {
     "name": "stdout",
     "output_type": "stream",
     "text": [
      "(15294, 15294), 37951\n"
     ]
    }
   ],
   "source": [
    "nodes_df0 = pd.read_csv('../projects/berkeley/network_inputs/osm_nodes.csv')\n",
    "links_df0 = pd.read_csv('../projects/berkeley/network_inputs/osm_edges.csv')\n",
    "# links_df0 = pd.read_csv('../projects/berkeley/network_inputs/modified_network_edges.csv')\n",
    "wgh = links_df0['length']\n",
    "row = links_df0['start_igraph']\n",
    "col = links_df0['end_igraph']\n",
    "assert max(np.max(row)+1, np.max(col)+1) == nodes_df0.shape[0], 'nodes and links dimension do not match, row {}, col {}, nodes {}'.format(np.max(row), np.max(col), nodes_df0.shape[0])\n",
    "g_coo = ssparse.coo_matrix((wgh, (row, col)), shape=(nodes_df0.shape[0], nodes_df0.shape[0]))\n",
    "print(\"({}, {}), {}\".format(g_coo.shape[0], g_coo.shape[1], len(g_coo.data)))\n",
    "sio.mmwrite('network_sparse.mtx', g_coo)\n",
    "# g_coo = sio.mmread(absolute_path+'/outputs/network_sparse.mtx'.format(folder))\n",
    "g = interface.readgraph(bytes('network_sparse.mtx', encoding='utf-8'))"
   ]
  },
  {
   "cell_type": "code",
   "execution_count": 5,
   "metadata": {},
   "outputs": [
    {
     "name": "stdout",
     "output_type": "stream",
     "text": [
      "4278.350224634792\n",
      "[(5541, 13983), (13983, 5540), (5540, 14835), (14835, 12105), (12105, 12110), (12110, 12103), (12103, 12102), (12102, 12109), (12109, 12100), (12100, 12099), (12099, 875), (875, 8204), (8204, 8202), (8202, 8199), (8199, 12095), (12095, 2154), (2154, 1404), (1404, 3217), (3217, 3212), (3212, 3214), (3214, 7614), (7614, 3211), (3211, 14674), (14674, 14643), (14643, 5431), (5431, 3234), (3234, 3235), (3235, 920), (920, 3219), (3219, 3228), (3228, 3210), (3210, 3207), (3207, 3224), (3224, 1003), (1003, 5204), (5204, 671), (671, 673), (673, 676), (676, 683), (683, 686), (686, 689), (689, 9532), (9532, 700), (700, 702), (702, 704), (704, 12908), (12908, 711), (711, 710), (710, 721), (721, 8084)]\n",
      "4326.149204185702\n",
      "[(8084, 712), (712, 2757), (2757, 2758), (2758, 12909), (12909, 4434), (4434, 3806), (3806, 4349), (4349, 13673), (13673, 13503), (13503, 888), (888, 13164), (13164, 6370), (6370, 11058), (11058, 758), (758, 13502), (13502, 13915), (13915, 2664), (2664, 2644), (2644, 2665), (2665, 609), (609, 2663), (2663, 13787), (13787, 2662), (2662, 2659), (2659, 14652), (14652, 14490), (14490, 6174), (6174, 9090), (9090, 1961), (1961, 2658), (2658, 5522), (5522, 12877), (12877, 559), (559, 14588), (14588, 1100), (1100, 110), (110, 5650), (5650, 5528), (5528, 5530), (5530, 5533), (5533, 5536), (5536, 14836), (14836, 5566), (5566, 13985), (13985, 5565), (5565, 5541)]\n"
     ]
    }
   ],
   "source": [
    "### marin: 10185, 2598\n",
    "### spruce: 2160, 1626\n",
    "### shasta: 5525, 1623\n",
    "### oxfful: 14299, 9242\n",
    "### rose: 4864, 14299\n",
    "### cedar: 15068, 14483\n",
    "### university: 1775, 8104\n",
    "### shamlk: 5541, 8084\n",
    "counterflow_start_igraph, counterflow_end_igraph = 5541, 8084 ### node_id_igraph\n",
    "counterflow_start_sp = counterflow_start_igraph + 1\n",
    "counterflow_end_sp = counterflow_end_igraph + 1\n",
    "\n",
    "### along counterflow\n",
    "sp_1 = g.dijkstra(counterflow_start_sp, counterflow_end_sp)\n",
    "sp_dist_1 = sp_1.distance(counterflow_end_sp)\n",
    "print(sp_dist_1)\n",
    "sp_route_1 = sp_1.route(counterflow_end_sp)\n",
    "path_1 = [(start_sp-1, end_sp-1) for (start_sp, end_sp) in sp_route_1]\n",
    "print(path_1)\n",
    "path_df_1 = pd.DataFrame(path_1, columns=['start_igraph', 'end_igraph'])\n",
    "path_df_1['along'] = 1\n",
    "\n",
    "### against counterflow\n",
    "if counterflow_end_igraph == 8104:\n",
    "    counterflow_end_igraph = 568\n",
    "    counterflow_end_sp = counterflow_end_igraph + 1\n",
    "sp_2 = g.dijkstra(counterflow_end_sp, counterflow_start_sp)\n",
    "sp_dist_2 = sp_2.distance(counterflow_start_sp)\n",
    "print(sp_dist_2)\n",
    "sp_route_2 = sp_2.route(counterflow_start_sp)\n",
    "path_2 = [(start_sp-1, end_sp-1) for (start_sp, end_sp) in sp_route_2]\n",
    "print(path_2)\n",
    "path_df_2 = pd.DataFrame(path_2, columns=['start_igraph', 'end_igraph'])\n",
    "path_df_2['along'] = 0\n",
    "\n",
    "counterflow_route = pd.concat([path_df_1, path_df_2])\n",
    "counterflow_route = pd.merge(counterflow_route, links_df0[['start_igraph', 'end_igraph', 'edge_id_igraph','geometry']], how='left', on=['start_igraph', 'end_igraph'])\n",
    "counterflow_route.to_csv('shamlk.csv', index=False)"
   ]
  },
  {
   "cell_type": "code",
   "execution_count": null,
   "metadata": {},
   "outputs": [],
   "source": []
  }
 ],
 "metadata": {
  "kernelspec": {
   "display_name": "Python 3",
   "language": "python",
   "name": "python3"
  },
  "language_info": {
   "codemirror_mode": {
    "name": "ipython",
    "version": 3
   },
   "file_extension": ".py",
   "mimetype": "text/x-python",
   "name": "python",
   "nbconvert_exporter": "python",
   "pygments_lexer": "ipython3",
   "version": "3.7.7"
  }
 },
 "nbformat": 4,
 "nbformat_minor": 4
}

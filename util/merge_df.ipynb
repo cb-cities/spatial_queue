{
 "cells": [
  {
   "cell_type": "code",
   "execution_count": 1,
   "metadata": {},
   "outputs": [],
   "source": [
    "import pandas as pd\n"
   ]
  },
  {
   "cell_type": "code",
   "execution_count": 2,
   "metadata": {},
   "outputs": [
    {
     "output_type": "stream",
     "name": "stdout",
     "text": [
      "/home/bingyu/Documents/spatial_queue/util\n"
     ]
    }
   ],
   "source": [
    "!pwd"
   ]
  },
  {
   "cell_type": "code",
   "execution_count": 3,
   "metadata": {},
   "outputs": [],
   "source": [
    "scen_nm = 'reroute_stp_rs5_f1_dtmid_tow0.1_hhvsurvey_r0.5_rs0.5_pt0_cf0'\n",
    "link_df = pd.read_csv('../projects/berkeley_trb/simulation_outputs/modified_network_edges_{}.csv'.format(scen_nm))\n",
    "for t in range(7200, 9900, 300):\n",
    "    try:\n",
    "        link_stats = pd.read_csv('../projects/berkeley_trb/simulation_outputs/link_stats/link_stats_{}_t{}.csv'.format(scen_nm, t))\n",
    "    except FileNotFoundError:\n",
    "        print('link_stats_{}_t{}.csv'.format(scen_nm, t))\n",
    "        continue\n",
    "    link_stats = pd.merge(link_stats, link_df[['edge_id_igraph', 'geometry', 'length', 'lanes']], how='left', left_on='link_id', right_on='edge_id_igraph')\n",
    "    link_stats['q_density'] = link_stats['q']/(link_stats['length']*link_stats['lanes'])\n",
    "    link_stats['r_density'] = link_stats['r']/(link_stats['length']*link_stats['lanes'])\n",
    "    link_stats['qr_density'] = link_stats['q_density'] + link_stats['r_density']\n",
    "    link_stats.to_csv('../projects/berkeley_trb/visualization_outputs/link_stats_geom_revision/link_stats_geom_{}_t{}.csv'.format(scen_nm, t), index=False)"
   ]
  },
  {
   "cell_type": "code",
   "execution_count": 6,
   "metadata": {},
   "outputs": [],
   "source": [
    "scen_nm = 'link_gps_cnt_rs6_f1_dtmid_tow0.1_hhvsurvey_r0.5_rs0.5_pt0_cf0'\n",
    "link_df = pd.read_csv('../projects/berkeley_trb/simulation_outputs/modified_network_edges_{}.csv'.format(scen_nm))\n",
    "link_gps_stats_df = pd.read_csv('../projects/berkeley_trb/simulation_outputs/link_stats/link_gps_stats_{}.csv'.format(scen_nm))\n",
    "link_gps_stats_df['tot_veh'] = link_gps_stats_df['gps'] + link_gps_stats_df['non_gps']\n",
    "link_gps_stats_df['gps_pct'] = link_gps_stats_df['gps']/link_gps_stats_df['tot_veh']\n",
    "link_gps_stats_df = pd.merge(link_gps_stats_df, link_df[['edge_id_igraph', 'geometry']], left_on='link_id', right_on='edge_id_igraph', how='left')\n",
    "link_gps_stats_df.loc[link_gps_stats_df['tot_veh']>0].to_csv('../projects/berkeley_trb/visualization_outputs/link_stats_geom_revision/link_stats_gps_{}.csv'.format(scen_nm), index=False)"
   ]
  },
  {
   "cell_type": "code",
   "execution_count": null,
   "metadata": {},
   "outputs": [],
   "source": []
  }
 ],
 "metadata": {
  "kernelspec": {
   "display_name": "Python 3",
   "language": "python",
   "name": "python3"
  },
  "language_info": {
   "codemirror_mode": {
    "name": "ipython",
    "version": 3
   },
   "file_extension": ".py",
   "mimetype": "text/x-python",
   "name": "python",
   "nbconvert_exporter": "python",
   "pygments_lexer": "ipython3",
   "version": "3.7.3-final"
  }
 },
 "nbformat": 4,
 "nbformat_minor": 4
}
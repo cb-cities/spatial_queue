{
 "cells": [
  {
   "cell_type": "markdown",
   "metadata": {},
   "source": [
    "### Benchmark\n",
    "compare the loop and vectorized implementation.\n",
    "\n",
    "  * Loop through each node: [model/queue_class_ce170.py](model/queue_class_ce170.py)\n",
    "  * Vectorized: [model/spatial_queue_array.py](model/spatial_queue_array.py)"
   ]
  },
  {
   "cell_type": "code",
   "execution_count": 1,
   "metadata": {},
   "outputs": [],
   "source": [
    "import sys\n",
    "import time \n",
    "import random\n",
    "import numpy as np\n",
    "import pandas as pd \n",
    "import matplotlib.pyplot as plt \n",
    "%matplotlib inline\n",
    "random.seed(0)\n",
    "np.random.seed(0)\n",
    "\n",
    "### spatial queue model\n",
    "sys.path.insert(0, '..')\n",
    "import model.queue_class_ce170 as sq_loop\n",
    "import model.spatial_queue_array as sq_vect"
   ]
  },
  {
   "cell_type": "code",
   "execution_count": 2,
   "metadata": {},
   "outputs": [
    {
     "name": "stderr",
     "output_type": "stream",
     "text": [
      "/home/bingyu/anaconda3/envs/cities/lib/python3.8/site-packages/IPython/core/interactiveshell.py:3441: DtypeWarning: Columns (0) have mixed types.Specify dtype option on import or set low_memory=False.\n",
      "  exec(code_obj, self.user_global_ns, self.user_ns)\n"
     ]
    },
    {
     "name": "stdout",
     "output_type": "stream",
     "text": [
      "# nodes 206421, # links 507842, # ods 116160\n"
     ]
    },
    {
     "data": {
      "text/html": [
       "<div>\n",
       "<style scoped>\n",
       "    .dataframe tbody tr th:only-of-type {\n",
       "        vertical-align: middle;\n",
       "    }\n",
       "\n",
       "    .dataframe tbody tr th {\n",
       "        vertical-align: top;\n",
       "    }\n",
       "\n",
       "    .dataframe thead th {\n",
       "        text-align: right;\n",
       "    }\n",
       "</style>\n",
       "<table border=\"1\" class=\"dataframe\">\n",
       "  <thead>\n",
       "    <tr style=\"text-align: right;\">\n",
       "      <th></th>\n",
       "      <th>node_grp</th>\n",
       "      <th>lon</th>\n",
       "      <th>lat</th>\n",
       "      <th>new_nid</th>\n",
       "      <th>node_id</th>\n",
       "    </tr>\n",
       "  </thead>\n",
       "  <tbody>\n",
       "    <tr>\n",
       "      <th>194563</th>\n",
       "      <td>g11893</td>\n",
       "      <td>-122.065651</td>\n",
       "      <td>37.977556</td>\n",
       "      <td>194563</td>\n",
       "      <td>194563</td>\n",
       "    </tr>\n",
       "  </tbody>\n",
       "</table>\n",
       "</div>"
      ],
      "text/plain": [
       "       node_grp         lon        lat  new_nid  node_id\n",
       "194563   g11893 -122.065651  37.977556   194563   194563"
      ]
     },
     "metadata": {},
     "output_type": "display_data"
    }
   ],
   "source": [
    "### Read network and demand\n",
    "case='fairfax'\n",
    "nodes_df = pd.read_csv('traffic_inputs/new_{}_nodes.csv'.format(case))\n",
    "links_df = pd.read_csv('traffic_inputs/new_{}_links.csv'.format(case))\n",
    "od_df = pd.read_csv('traffic_inputs/{}_ods_day_new.csv'.format(case))\n",
    "#od_df = pd.concat([od_df]*100)\n",
    "\n",
    "### these are done for the vectorized implementation\n",
    "if case == 'berkeley':\n",
    "    osmid2nid_dict = {getattr(n, 'node_osmid'): getattr(n, 'node_id') for n in nodes_df.itertuples()}\n",
    "    od_df['origin_nid'] = od_df['origin_osmid'].map(osmid2nid_dict)\n",
    "    od_df['destin_nid'] = od_df['destin_osmid'].map(osmid2nid_dict)\n",
    "    special_nodes = {'first_priority':[], 'second_priority':[]}\n",
    "if case == 'fairfax':\n",
    "    special_nodes = {'first_priority':[], 'second_priority':[]}\n",
    "    background_od = pd.read_csv('traffic_inputs/{}_ods_background_new.csv'.format(case))\n",
    "    od_df = pd.concat([od_df, background_od]).sample(frac=1)\n",
    "    #od_df = background_od.sample(frac=0.5)\n",
    "    od_df = od_df[od_df['origin_nid']!=od_df['destin_nid']]\n",
    "    od_df['departure_hour'] = od_df['departure_hour'].fillna(6)\n",
    "    od_df['departure_quarter'] = od_df['departure_quarter'].fillna(0)\n",
    "    od_df['departure_time'] = (\n",
    "        od_df['departure_hour']-6)*3600 + od_df['departure_quarter']*900 \n",
    "    nodes_df['node_id'] = nodes_df['new_nid'].astype(int)\n",
    "print('# nodes {}, # links {}, # ods {}'.format(nodes_df.shape[0], links_df.shape[0], od_df.shape[0]))\n",
    "#display(nodes_df.tail(2))\n",
    "#display(links_df.tail(2))\n",
    "display(nodes_df[nodes_df['node_id']==194563])"
   ]
  },
  {
   "cell_type": "markdown",
   "metadata": {},
   "source": [
    "### This is the vectorized simulation."
   ]
  },
  {
   "cell_type": "code",
   "execution_count": null,
   "metadata": {},
   "outputs": [
    {
     "name": "stdout",
     "output_type": "stream",
     "text": [
      "Agent IDs not specified; use sequential number.\n",
      "At 0 seconds, 0 evacuees successfully reached the destination\n",
      "At 100 seconds, 118 evacuees successfully reached the destination\n",
      "At 200 seconds, 277 evacuees successfully reached the destination\n",
      "At 300 seconds, 451 evacuees successfully reached the destination\n",
      "At 400 seconds, 653 evacuees successfully reached the destination\n",
      "At 500 seconds, 830 evacuees successfully reached the destination\n",
      "At 600 seconds, 1011 evacuees successfully reached the destination\n",
      "At 700 seconds, 1168 evacuees successfully reached the destination\n",
      "At 800 seconds, 1341 evacuees successfully reached the destination\n",
      "At 900 seconds, 1508 evacuees successfully reached the destination\n",
      "At 1000 seconds, 1723 evacuees successfully reached the destination\n",
      "At 1100 seconds, 1992 evacuees successfully reached the destination\n",
      "At 1200 seconds, 2254 evacuees successfully reached the destination\n",
      "At 1300 seconds, 2538 evacuees successfully reached the destination\n",
      "At 1400 seconds, 2811 evacuees successfully reached the destination\n",
      "At 1500 seconds, 3093 evacuees successfully reached the destination\n",
      "At 1600 seconds, 3364 evacuees successfully reached the destination\n",
      "At 1700 seconds, 3615 evacuees successfully reached the destination\n",
      "At 1800 seconds, 3880 evacuees successfully reached the destination\n",
      "At 1900 seconds, 4117 evacuees successfully reached the destination\n",
      "At 2000 seconds, 4360 evacuees successfully reached the destination\n",
      "At 2100 seconds, 4634 evacuees successfully reached the destination\n",
      "At 2200 seconds, 4909 evacuees successfully reached the destination\n",
      "At 2300 seconds, 5159 evacuees successfully reached the destination\n",
      "At 2400 seconds, 5412 evacuees successfully reached the destination\n",
      "At 2500 seconds, 5648 evacuees successfully reached the destination\n",
      "At 2600 seconds, 5870 evacuees successfully reached the destination\n",
      "At 2700 seconds, 6098 evacuees successfully reached the destination\n",
      "At 2800 seconds, 6362 evacuees successfully reached the destination\n",
      "At 2900 seconds, 6619 evacuees successfully reached the destination\n",
      "At 3000 seconds, 6884 evacuees successfully reached the destination\n",
      "At 3100 seconds, 7132 evacuees successfully reached the destination\n",
      "At 3200 seconds, 7406 evacuees successfully reached the destination\n",
      "At 3300 seconds, 7679 evacuees successfully reached the destination\n",
      "At 3400 seconds, 7916 evacuees successfully reached the destination\n",
      "At 3500 seconds, 8166 evacuees successfully reached the destination\n",
      "At 3600 seconds, 8368 evacuees successfully reached the destination\n",
      "At 3700 seconds, 8678 evacuees successfully reached the destination\n",
      "At 3800 seconds, 9081 evacuees successfully reached the destination\n",
      "At 3900 seconds, 9501 evacuees successfully reached the destination\n",
      "At 4000 seconds, 9927 evacuees successfully reached the destination\n",
      "At 4100 seconds, 10320 evacuees successfully reached the destination\n"
     ]
    }
   ],
   "source": [
    "# count the number of evacuees that have successfully reach their destination\n",
    "def arrival_counts_vect(t, simulation, save_path):\n",
    "    arrival_cnts = np.sum(simulation.agents.agents['agent_status']==-1)\n",
    "    print('At {} seconds, {} evacuees successfully reached the destination'.format(t, arrival_cnts))\n",
    "    if arrival_cnts == simulation.agents.agents.shape[0]:\n",
    "        print(\"all agents arrive at destinations at time {} seconds.\".format(t))\n",
    "        return False\n",
    "    with open(save_path, 'a') as t_stats_outfile:\n",
    "        t_stats_outfile.write(\"{},{}\".format(t, arrival_cnts) + \"\\n\")\n",
    "    return True\n",
    "\n",
    "# write a csv file that contains the numbers of queuing and running vehicles on each link\n",
    "def write_link_outputs_vect(simulation, save_path):\n",
    "    link_output = simulation.network.links.loc[\n",
    "        simulation.network.links['link_type'].isin(['real', 'virtual']), \n",
    "        ['link_id', 'queue', 'run', 'undeparted', 'length', 'geometry']].copy()\n",
    "    link_output = link_output[\n",
    "        (link_output['queue']>0) | (link_output['run']>0)\n",
    "        | (link_output['undeparted']>0)\n",
    "    ]\n",
    "    link_output.to_csv(save_path, index=False)\n",
    "\n",
    "\n",
    "### initialize simulation\n",
    "simulation_vect = sq_vect.Simulation()\n",
    "simulation_vect.initialize_simulation(nodes_df, links_df, od_df)\n",
    "\n",
    "### specify some parameters\n",
    "scenario_name = '{}_vect'.format(case)\n",
    "t_end = 70210\n",
    "arrival_output_path = 'traffic_outputs/{}/t_stats/arrivals_{}.csv'.format(case, scenario_name)\n",
    "\n",
    "### run simulation and output results\n",
    "with open(arrival_output_path, 'w') as t_stats_outfile:\n",
    "    t_stats_outfile.write(\"t,arrival_count\"+\"\\n\")\n",
    "\n",
    "# iterate through each time step\n",
    "t_start_vect = time.time()\n",
    "for t in range(t_end):\n",
    "        \n",
    "    # run the spatial-queue simulation for one step\n",
    "    simulation_vect.run_one_step(t, reroute_frequency=None, special_nodes=special_nodes)\n",
    "\n",
    "    # output time-step results every 100 seconds\n",
    "    if t%100 == 0:\n",
    "        if not arrival_counts_vect(t, simulation_vect, arrival_output_path):\n",
    "            break\n",
    "        link_output_path = 'traffic_outputs/{}/link_stats/l{}_at_{}.csv'.format(case, scenario_name, t)\n",
    "        #node_output_path = 'traffic_outputs/berkeley/node_stats/n{}_at_{}.csv'.format(scenario_name, t)\n",
    "        write_link_outputs_vect(simulation_vect, link_output_path)\n",
    "        #write_node_outputs(simulation_vect, node_output_path)\n",
    "\n",
    "print (\"simulation completed\")\n",
    "t_end_vect = time.time()\n",
    "print('Simulation took {}s'.format(t_end_vect - t_start_vect))\n",
    "    "
   ]
  },
  {
   "cell_type": "markdown",
   "metadata": {},
   "source": [
    "### This is the unvectorized simulation."
   ]
  },
  {
   "cell_type": "code",
   "execution_count": 5,
   "metadata": {},
   "outputs": [],
   "source": [
    "# remove vehicles from the simulation if no path can be found for it\n",
    "def remove_no_path_agents(simulation):\n",
    "    cannot_find_path = []\n",
    "    for vehicle_id, vehicle in simulation.all_agents.items():\n",
    "        routing_status = vehicle.get_path( g=simulation.g )\n",
    "        if routing_status == 'no_path_found':\n",
    "            cannot_find_path.append(vehicle_id)\n",
    "\n",
    "    for vehicle_id in cannot_find_path:\n",
    "        del simulation.all_agents[vehicle_id]\n",
    "      \n",
    "    print('# o-d pairs whose paths cannot be found: {}'.format(len(cannot_find_path)))\n",
    "    print('# o-d pairs/trips {}'.format(len(simulation.all_agents)))\n",
    "    return simulation\n",
    "\n",
    "# initialize the spatial-queue model\n",
    "def init_sq_simulation(nodes_df, links_df, od_df):\n",
    "\n",
    "    simulation = sq_loop.Simulation()\n",
    "    simulation.create_network(nodes_df, links_df)\n",
    "    simulation.create_demand(od_df)\n",
    "\n",
    "    simulation = remove_no_path_agents(simulation)\n",
    "    return simulation\n",
    "\n",
    "# run the spatial-queue simulation for one time step\n",
    "def single_step_sq_sim(simulation,t,reroute_frequency):\n",
    "    ### load agents\n",
    "    for agent_id, agent in simulation.all_agents.items(): \n",
    "        agent.load_trips(t)\n",
    "        ### reroute\n",
    "        if (t>0) and (t%reroute_frequency == 0):\n",
    "            routing_status = agent.get_path( g=simulation.g )\n",
    "    ### run link model\n",
    "    for link_id, link in simulation.all_links.items():\n",
    "        link.run_link_model(t)\n",
    "    ### run node model\n",
    "    node_ids_to_run = set([link.end_nid for link in simulation.all_links.values() if len(link.queue_veh)>0])\n",
    "    for node_id in node_ids_to_run:\n",
    "        node = simulation.all_nodes[node_id] \n",
    "        node.run_node_model(t)\n",
    "    return simulation\n",
    "\n",
    "# count the number of evacuees that have successfully reach their destination\n",
    "def arrival_counts(t,simulation,save_path):\n",
    "    arrival_cnts = np.sum([1 for a in simulation.all_agents.values() if a.status=='arr'])\n",
    "    print('At {} seconds, {} evacuees successfully reached the destination'.format(t, arrival_cnts))\n",
    "    if arrival_cnts == len(simulation.all_agents):\n",
    "        print(\"all agents arrive at destinations at time {} seconds.\".format(t))\n",
    "        return False\n",
    "    with open(save_path, 'a') as t_stats_outfile:\n",
    "        t_stats_outfile.write(\"{},{}\".format(t, arrival_cnts) + \"\\n\")\n",
    "    return True\n",
    "\n",
    "# write a csv file that contains the numbers of queuing and running vehicles on each link\n",
    "def write_link_outputs(simulation,save_path):\n",
    "    link_output = pd.DataFrame(\n",
    "        [(link.lid, len(link.queue_veh), len(link.run_veh), \n",
    "          np.round((len(link.queue_veh)+len(link.run_veh))/(link.length * link.lanes+0.00001)*100, 2), \n",
    "          link.geometry) for link in simulation.all_links.values() \n",
    "         #if link.ltype[0:2]!='vl'\n",
    "        ], \n",
    "        columns=['link_id', 'queue_vehicle_count', 'run_vehicle_count', 'vehicle_per_100m', 'geometry'])\n",
    "    link_output = link_output[(link_output['queue_vehicle_count']>0) | (link_output['run_vehicle_count']>0)].reset_index(drop=True)\n",
    "    link_output.to_csv(save_path, index=False)\n",
    "\n",
    "# write a csv file that contains the numbers of vehicles that have not departed and waiting at each node\n",
    "def write_node_outputs(simulation,save_path):\n",
    "    node_predepart = pd.DataFrame([(agent.cle, 1) for agent in simulation.all_agents.values() if (agent.status in [None, 'loaded'])], columns=['node_id', 'predepart_cnt']).groupby('node_id').agg({'predepart_cnt': np.sum}).reset_index()\n",
    "    if node_predepart.shape[0]>0:\n",
    "        node_predepart = node_predepart.merge(nodes_df[['node_id', 'lat', 'lon']], how='left', on='node_id')\n",
    "        node_predepart.to_csv(save_path, index=False)\n",
    "\n",
    "def spatial_queue_simulation(t_end,simulation,scenario_name,reroute_frequency):\n",
    "    # paths \n",
    "    arrival_output_path = 'traffic_outputs/{}/t_stats/arrivals_{}.csv'.format(case, scenario_name)\n",
    "    with open(arrival_output_path, 'w') as t_stats_outfile:\n",
    "        t_stats_outfile.write(\"t,arrival_count\"+\"\\n\")\n",
    "\n",
    "    t_start_loop = time.time()\n",
    "    # iterate through each time step\n",
    "    for t in range(t_end):\n",
    "\n",
    "        # run the spatial-queue simulation for one step\n",
    "        simulation = single_step_sq_sim(simulation,t,reroute_frequency)\n",
    "\n",
    "        # output time-step results every 100 seconds\n",
    "        if t%100 == 0:\n",
    "            if not arrival_counts(t,simulation,arrival_output_path):\n",
    "                break\n",
    "            link_output_path = 'traffic_outputs/{}/link_stats/l{}_at_{}.csv'.format(case, scenario_name, t)\n",
    "            node_output_path = 'traffic_outputs/{}/node_stats/n{}_at_{}.csv'.format(case, scenario_name, t)\n",
    "            write_link_outputs(simulation,link_output_path)\n",
    "            write_node_outputs(simulation,node_output_path)\n",
    "\n",
    "    print (\"simulation completed\")\n",
    "    t_end_loop = time.time()\n",
    "    print(\"Simulation took {}s\".format(t_end_loop-t_start_loop))\n",
    "    return simulation"
   ]
  },
  {
   "cell_type": "code",
   "execution_count": 6,
   "metadata": {},
   "outputs": [
    {
     "name": "stdout",
     "output_type": "stream",
     "text": [
      "# o-d pairs whose paths cannot be found: 0\n",
      "# o-d pairs/trips 56074\n",
      "At 0 seconds, 0.0 evacuees successfully reached the destination\n",
      "At 100 seconds, 304 evacuees successfully reached the destination\n",
      "At 200 seconds, 807 evacuees successfully reached the destination\n",
      "At 300 seconds, 1433 evacuees successfully reached the destination\n",
      "At 400 seconds, 1995 evacuees successfully reached the destination\n",
      "At 500 seconds, 2598 evacuees successfully reached the destination\n",
      "At 600 seconds, 3085 evacuees successfully reached the destination\n",
      "At 700 seconds, 3604 evacuees successfully reached the destination\n",
      "At 800 seconds, 4101 evacuees successfully reached the destination\n",
      "At 900 seconds, 4541 evacuees successfully reached the destination\n",
      "At 1000 seconds, 5010 evacuees successfully reached the destination\n",
      "At 1100 seconds, 5447 evacuees successfully reached the destination\n",
      "At 1200 seconds, 5826 evacuees successfully reached the destination\n",
      "At 1300 seconds, 6219 evacuees successfully reached the destination\n",
      "At 1400 seconds, 6621 evacuees successfully reached the destination\n",
      "simulation completed\n",
      "Simulation took 5848.084402322769s\n"
     ]
    },
    {
     "data": {
      "text/plain": [
       "<model.queue_class_ce170.Simulation at 0x7fb987619e80>"
      ]
     },
     "execution_count": 6,
     "metadata": {},
     "output_type": "execute_result"
    }
   ],
   "source": [
    "simulation = init_sq_simulation(nodes_df,links_df,od_df)\n",
    "spatial_queue_simulation(1401, simulation, '{}_loop'.format(case), 36000)"
   ]
  },
  {
   "cell_type": "markdown",
   "metadata": {},
   "source": [
    "### Plot results"
   ]
  },
  {
   "cell_type": "code",
   "execution_count": 7,
   "metadata": {},
   "outputs": [
    {
     "data": {
      "image/png": "[encoded data removed]",
      "text/plain": [
       "<Figure size 576x288 with 1 Axes>"
      ]
     },
     "metadata": {
      "needs_background": "light"
     },
     "output_type": "display_data"
    }
   ],
   "source": [
    "### plot the arrival curve\n",
    "fig, ax = plt.subplots(figsize=(8, 4))\n",
    "\n",
    "### base scenario arrival\n",
    "t_stats_loop_df = pd.read_csv('traffic_outputs/{}/t_stats/arrivals_{}_loop.csv'.format(case, case))\n",
    "ax.plot(t_stats_loop_df['t'], t_stats_loop_df['arrival_count'], label='loop')\n",
    "\n",
    "t_stats_vect_df = pd.read_csv('traffic_outputs/{}/t_stats/arrivals_{}_vect.csv'.format(case, case))\n",
    "ax.plot(t_stats_vect_df['t'], t_stats_vect_df['arrival_count'], label='vect')\n",
    "\n",
    "ax.set_xlabel('Time since the start of the evacuation')\n",
    "ax.set_ylabel('# arrived vehicles')\n",
    "ax.set_xlim([0, 10800])\n",
    "plt.legend()\n",
    "plt.title('{}, loop {}s, vect {}s'.format(case, 29, 98))\n",
    "plt.show()"
   ]
  },
  {
   "cell_type": "code",
   "execution_count": null,
   "metadata": {},
   "outputs": [],
   "source": []
  }
 ],
 "metadata": {
  "kernelspec": {
   "display_name": "cities",
   "language": "python",
   "name": "cities"
  },
  "language_info": {
   "codemirror_mode": {
    "name": "ipython",
    "version": 3
   },
   "file_extension": ".py",
   "mimetype": "text/x-python",
   "name": "python",
   "nbconvert_exporter": "python",
   "pygments_lexer": "ipython3",
   "version": "3.8.10"
  }
 },
 "nbformat": 4,
 "nbformat_minor": 2
}

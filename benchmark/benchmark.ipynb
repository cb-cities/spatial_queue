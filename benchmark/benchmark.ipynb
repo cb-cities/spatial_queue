{
 "cells": [
  {
   "cell_type": "markdown",
   "metadata": {},
   "source": [
    "### Benchmark\n",
    "compare the loop and vectorized implementation.\n",
    "\n",
    "  * Loop through each node: [model/queue_class_ce170.py](model/queue_class_ce170.py)\n",
    "  * Vectorized: [model/spatial_queue_array.py](model/spatial_queue_array.py)"
   ]
  },
  {
   "cell_type": "code",
   "execution_count": 1,
   "metadata": {},
   "outputs": [],
   "source": [
    "import sys\n",
    "import time \n",
    "import random\n",
    "import numpy as np\n",
    "import pandas as pd \n",
    "import matplotlib.pyplot as plt \n",
    "%matplotlib inline\n",
    "random.seed(0)\n",
    "np.random.seed(0)\n",
    "\n",
    "### spatial queue model\n",
    "sys.path.insert(0, '..')\n",
    "import model.queue_class_ce170 as sq_loop\n",
    "import model.spatial_queue_array as sq_vect"
   ]
  },
  {
   "cell_type": "code",
   "execution_count": 23,
   "metadata": {},
   "outputs": [
    {
     "name": "stdout",
     "output_type": "stream",
     "text": [
      "# nodes 224224, # links 549010, # ods 116203\n"
     ]
    }
   ],
   "source": [
    "### Read network and demand\n",
    "case='fairfax'\n",
    "nodes_df = pd.read_csv('traffic_inputs/{}_nodes.csv'.format(case))\n",
    "links_df = pd.read_csv('traffic_inputs/{}_links.csv'.format(case))\n",
    "od_df = pd.read_csv('traffic_inputs/{}_ods_day.csv'.format(case))\n",
    "\n",
    "### these are done for the vectorized implementation\n",
    "if case == 'berkeley':\n",
    "    osmid2nid_dict = {getattr(n, 'node_osmid'): getattr(n, 'node_id') for n in nodes_df.itertuples()}\n",
    "    od_df['origin_nid'] = od_df['origin_osmid'].map(osmid2nid_dict)\n",
    "    od_df['destin_nid'] = od_df['destin_osmid'].map(osmid2nid_dict)\n",
    "if case == 'fairfax':\n",
    "    background_od = pd.read_csv('traffic_inputs/{}_ods_background.csv'.format(case))\n",
    "    od_df = pd.concat([od_df, background_od]).sample(frac=1)\n",
    "    od_df['origin_nid'] = od_df['origin_node_id']\n",
    "    od_df['destin_nid'] = od_df['destin_node_id']\n",
    "    nodes_df['node_id'] = nodes_df['nid']\n",
    "    nodes_df['node_osmid'] = None\n",
    "    links_df['link_id'] = links_df['eid']\n",
    "    links_df['start_node_id'] = links_df['nid_s']\n",
    "    links_df['end_node_id'] = links_df['nid_e']\n",
    "print('# nodes {}, # links {}, # ods {}'.format(nodes_df.shape[0], links_df.shape[0], od_df.shape[0]))"
   ]
  },
  {
   "cell_type": "markdown",
   "metadata": {},
   "source": [
    "### This is the vectorized simulation."
   ]
  },
  {
   "cell_type": "code",
   "execution_count": 21,
   "metadata": {},
   "outputs": [
    {
     "name": "stdout",
     "output_type": "stream",
     "text": [
      "Agent IDs not specified; use sequential number.\n",
      "agents departure times not specified; assume leave immediately.\n",
      "At 0 seconds, 0 evacuees successfully reached the destination\n",
      "At 100 seconds, 80 evacuees successfully reached the destination\n",
      "At 200 seconds, 163 evacuees successfully reached the destination\n",
      "At 300 seconds, 244 evacuees successfully reached the destination\n",
      "At 400 seconds, 336 evacuees successfully reached the destination\n",
      "At 500 seconds, 430 evacuees successfully reached the destination\n",
      "At 600 seconds, 514 evacuees successfully reached the destination\n",
      "At 700 seconds, 576 evacuees successfully reached the destination\n",
      "At 800 seconds, 645 evacuees successfully reached the destination\n"
     ]
    },
    {
     "ename": "KeyboardInterrupt",
     "evalue": "",
     "output_type": "error",
     "traceback": [
      "\u001b[0;31m---------------------------------------------------------------------------\u001b[0m",
      "\u001b[0;31mKeyboardInterrupt\u001b[0m                         Traceback (most recent call last)",
      "\u001b[0;32m/tmp/ipykernel_353998/1595076367.py\u001b[0m in \u001b[0;36m<module>\u001b[0;34m\u001b[0m\n\u001b[1;32m     40\u001b[0m \u001b[0;34m\u001b[0m\u001b[0m\n\u001b[1;32m     41\u001b[0m     \u001b[0;31m# run the spatial-queue simulation for one step\u001b[0m\u001b[0;34m\u001b[0m\u001b[0;34m\u001b[0m\u001b[0;34m\u001b[0m\u001b[0m\n\u001b[0;32m---> 42\u001b[0;31m     \u001b[0msimulation_vect\u001b[0m\u001b[0;34m.\u001b[0m\u001b[0mrun_one_step\u001b[0m\u001b[0;34m(\u001b[0m\u001b[0mt\u001b[0m\u001b[0;34m,\u001b[0m \u001b[0mreroute_frequency\u001b[0m\u001b[0;34m=\u001b[0m\u001b[0;32mNone\u001b[0m\u001b[0;34m)\u001b[0m\u001b[0;34m\u001b[0m\u001b[0;34m\u001b[0m\u001b[0m\n\u001b[0m\u001b[1;32m     43\u001b[0m \u001b[0;34m\u001b[0m\u001b[0m\n\u001b[1;32m     44\u001b[0m     \u001b[0;31m# output time-step results every 100 seconds\u001b[0m\u001b[0;34m\u001b[0m\u001b[0;34m\u001b[0m\u001b[0;34m\u001b[0m\u001b[0m\n",
      "\u001b[0;32m~/Documents/spatial_queue/benchmark/../model/spatial_queue_array.py\u001b[0m in \u001b[0;36mrun_one_step\u001b[0;34m(self, t, reroute_frequency)\u001b[0m\n\u001b[1;32m    429\u001b[0m         \u001b[0;31m### reroute agents\u001b[0m\u001b[0;34m\u001b[0m\u001b[0;34m\u001b[0m\u001b[0;34m\u001b[0m\u001b[0m\n\u001b[1;32m    430\u001b[0m         \u001b[0mself\u001b[0m\u001b[0;34m.\u001b[0m\u001b[0magents\u001b[0m\u001b[0;34m.\u001b[0m\u001b[0mreroutes\u001b[0m\u001b[0;34m(\u001b[0m\u001b[0mnetwork\u001b[0m\u001b[0;34m=\u001b[0m\u001b[0mself\u001b[0m\u001b[0;34m.\u001b[0m\u001b[0mnetwork\u001b[0m\u001b[0;34m,\u001b[0m \u001b[0mt\u001b[0m\u001b[0;34m=\u001b[0m\u001b[0mt\u001b[0m\u001b[0;34m,\u001b[0m \u001b[0mreroute_frequency\u001b[0m\u001b[0;34m=\u001b[0m\u001b[0mreroute_frequency\u001b[0m\u001b[0;34m)\u001b[0m\u001b[0;34m\u001b[0m\u001b[0;34m\u001b[0m\u001b[0m\n\u001b[0;32m--> 431\u001b[0;31m         \u001b[0mself\u001b[0m\u001b[0;34m.\u001b[0m\u001b[0magents\u001b[0m\u001b[0;34m.\u001b[0m\u001b[0magents\u001b[0m \u001b[0;34m=\u001b[0m \u001b[0mself\u001b[0m\u001b[0;34m.\u001b[0m\u001b[0mnetwork\u001b[0m\u001b[0;34m.\u001b[0m\u001b[0mrun_link_model\u001b[0m\u001b[0;34m(\u001b[0m\u001b[0magents\u001b[0m\u001b[0;34m=\u001b[0m\u001b[0mself\u001b[0m\u001b[0;34m.\u001b[0m\u001b[0magents\u001b[0m\u001b[0;34m,\u001b[0m \u001b[0mt\u001b[0m\u001b[0;34m=\u001b[0m\u001b[0mt\u001b[0m\u001b[0;34m)\u001b[0m\u001b[0;34m\u001b[0m\u001b[0;34m\u001b[0m\u001b[0m\n\u001b[0m\u001b[1;32m    432\u001b[0m         \u001b[0mself\u001b[0m\u001b[0;34m.\u001b[0m\u001b[0magents\u001b[0m\u001b[0;34m.\u001b[0m\u001b[0magents\u001b[0m \u001b[0;34m=\u001b[0m \u001b[0mself\u001b[0m\u001b[0;34m.\u001b[0m\u001b[0mnetwork\u001b[0m\u001b[0;34m.\u001b[0m\u001b[0mrun_node_model\u001b[0m\u001b[0;34m(\u001b[0m\u001b[0magents\u001b[0m\u001b[0;34m=\u001b[0m\u001b[0mself\u001b[0m\u001b[0;34m.\u001b[0m\u001b[0magents\u001b[0m\u001b[0;34m,\u001b[0m \u001b[0mt\u001b[0m\u001b[0;34m=\u001b[0m\u001b[0mt\u001b[0m\u001b[0;34m)\u001b[0m\u001b[0;34m\u001b[0m\u001b[0;34m\u001b[0m\u001b[0m\n\u001b[1;32m    433\u001b[0m \u001b[0;34m\u001b[0m\u001b[0m\n",
      "\u001b[0;32m~/Documents/spatial_queue/benchmark/../model/spatial_queue_array.py\u001b[0m in \u001b[0;36mrun_link_model\u001b[0;34m(self, agents, t)\u001b[0m\n\u001b[1;32m    219\u001b[0m         \u001b[0;31m### update links\u001b[0m\u001b[0;34m\u001b[0m\u001b[0;34m\u001b[0m\u001b[0;34m\u001b[0m\u001b[0m\n\u001b[1;32m    220\u001b[0m         \u001b[0mself\u001b[0m\u001b[0;34m.\u001b[0m\u001b[0mlinks\u001b[0m\u001b[0;34m[\u001b[0m\u001b[0;34m'undeparted'\u001b[0m\u001b[0;34m]\u001b[0m \u001b[0;34m=\u001b[0m \u001b[0mself\u001b[0m\u001b[0;34m.\u001b[0m\u001b[0mlinks\u001b[0m\u001b[0;34m[\u001b[0m\u001b[0;34m'link_id'\u001b[0m\u001b[0;34m]\u001b[0m\u001b[0;34m.\u001b[0m\u001b[0mmap\u001b[0m\u001b[0;34m(\u001b[0m\u001b[0mlink_undeparted_dict\u001b[0m\u001b[0;34m)\u001b[0m\u001b[0;34m.\u001b[0m\u001b[0mfillna\u001b[0m\u001b[0;34m(\u001b[0m\u001b[0;36m0\u001b[0m\u001b[0;34m)\u001b[0m\u001b[0;34m\u001b[0m\u001b[0;34m\u001b[0m\u001b[0m\n\u001b[0;32m--> 221\u001b[0;31m         \u001b[0mself\u001b[0m\u001b[0;34m.\u001b[0m\u001b[0mlinks\u001b[0m\u001b[0;34m[\u001b[0m\u001b[0;34m'queue'\u001b[0m\u001b[0;34m]\u001b[0m \u001b[0;34m=\u001b[0m \u001b[0mself\u001b[0m\u001b[0;34m.\u001b[0m\u001b[0mlinks\u001b[0m\u001b[0;34m[\u001b[0m\u001b[0;34m'link_id'\u001b[0m\u001b[0;34m]\u001b[0m\u001b[0;34m.\u001b[0m\u001b[0mmap\u001b[0m\u001b[0;34m(\u001b[0m\u001b[0mlink_queue_dict\u001b[0m\u001b[0;34m)\u001b[0m\u001b[0;34m.\u001b[0m\u001b[0mfillna\u001b[0m\u001b[0;34m(\u001b[0m\u001b[0;36m0\u001b[0m\u001b[0;34m)\u001b[0m\u001b[0;34m\u001b[0m\u001b[0;34m\u001b[0m\u001b[0m\n\u001b[0m\u001b[1;32m    222\u001b[0m         \u001b[0mself\u001b[0m\u001b[0;34m.\u001b[0m\u001b[0mlinks\u001b[0m\u001b[0;34m[\u001b[0m\u001b[0;34m'run'\u001b[0m\u001b[0;34m]\u001b[0m \u001b[0;34m=\u001b[0m \u001b[0mself\u001b[0m\u001b[0;34m.\u001b[0m\u001b[0mlinks\u001b[0m\u001b[0;34m[\u001b[0m\u001b[0;34m'link_id'\u001b[0m\u001b[0;34m]\u001b[0m\u001b[0;34m.\u001b[0m\u001b[0mmap\u001b[0m\u001b[0;34m(\u001b[0m\u001b[0mlink_run_dict\u001b[0m\u001b[0;34m)\u001b[0m\u001b[0;34m.\u001b[0m\u001b[0mfillna\u001b[0m\u001b[0;34m(\u001b[0m\u001b[0;36m0\u001b[0m\u001b[0;34m)\u001b[0m\u001b[0;34m\u001b[0m\u001b[0;34m\u001b[0m\u001b[0m\n\u001b[1;32m    223\u001b[0m         \u001b[0mself\u001b[0m\u001b[0;34m.\u001b[0m\u001b[0mlinks\u001b[0m\u001b[0;34m[\u001b[0m\u001b[0;34m'storage_remain'\u001b[0m\u001b[0;34m]\u001b[0m \u001b[0;34m=\u001b[0m \u001b[0mself\u001b[0m\u001b[0;34m.\u001b[0m\u001b[0mlinks\u001b[0m\u001b[0;34m[\u001b[0m\u001b[0;34m'storage'\u001b[0m\u001b[0;34m]\u001b[0m \u001b[0;34m-\u001b[0m \u001b[0;34m(\u001b[0m\u001b[0mself\u001b[0m\u001b[0;34m.\u001b[0m\u001b[0mlinks\u001b[0m\u001b[0;34m[\u001b[0m\u001b[0;34m'run'\u001b[0m\u001b[0;34m]\u001b[0m \u001b[0;34m+\u001b[0m \u001b[0mself\u001b[0m\u001b[0;34m.\u001b[0m\u001b[0mlinks\u001b[0m\u001b[0;34m[\u001b[0m\u001b[0;34m'queue'\u001b[0m\u001b[0;34m]\u001b[0m\u001b[0;34m)\u001b[0m\u001b[0;34m*\u001b[0m\u001b[0;36m8\u001b[0m\u001b[0;34m\u001b[0m\u001b[0;34m\u001b[0m\u001b[0m\n",
      "\u001b[0;32m~/anaconda3/envs/cities/lib/python3.8/site-packages/pandas/core/series.py\u001b[0m in \u001b[0;36mmap\u001b[0;34m(self, arg, na_action)\u001b[0m\n\u001b[1;32m   4158\u001b[0m         \u001b[0mdtype\u001b[0m\u001b[0;34m:\u001b[0m \u001b[0mobject\u001b[0m\u001b[0;34m\u001b[0m\u001b[0;34m\u001b[0m\u001b[0m\n\u001b[1;32m   4159\u001b[0m         \"\"\"\n\u001b[0;32m-> 4160\u001b[0;31m         \u001b[0mnew_values\u001b[0m \u001b[0;34m=\u001b[0m \u001b[0msuper\u001b[0m\u001b[0;34m(\u001b[0m\u001b[0;34m)\u001b[0m\u001b[0;34m.\u001b[0m\u001b[0m_map_values\u001b[0m\u001b[0;34m(\u001b[0m\u001b[0marg\u001b[0m\u001b[0;34m,\u001b[0m \u001b[0mna_action\u001b[0m\u001b[0;34m=\u001b[0m\u001b[0mna_action\u001b[0m\u001b[0;34m)\u001b[0m\u001b[0;34m\u001b[0m\u001b[0;34m\u001b[0m\u001b[0m\n\u001b[0m\u001b[1;32m   4161\u001b[0m         return self._constructor(new_values, index=self.index).__finalize__(\n\u001b[1;32m   4162\u001b[0m             \u001b[0mself\u001b[0m\u001b[0;34m,\u001b[0m \u001b[0mmethod\u001b[0m\u001b[0;34m=\u001b[0m\u001b[0;34m\"map\"\u001b[0m\u001b[0;34m\u001b[0m\u001b[0;34m\u001b[0m\u001b[0m\n",
      "\u001b[0;32m~/anaconda3/envs/cities/lib/python3.8/site-packages/pandas/core/base.py\u001b[0m in \u001b[0;36m_map_values\u001b[0;34m(self, mapper, na_action)\u001b[0m\n\u001b[1;32m    840\u001b[0m             \u001b[0mvalues\u001b[0m \u001b[0;34m=\u001b[0m \u001b[0mself\u001b[0m\u001b[0;34m.\u001b[0m\u001b[0m_values\u001b[0m\u001b[0;34m\u001b[0m\u001b[0;34m\u001b[0m\u001b[0m\n\u001b[1;32m    841\u001b[0m \u001b[0;34m\u001b[0m\u001b[0m\n\u001b[0;32m--> 842\u001b[0;31m             \u001b[0mindexer\u001b[0m \u001b[0;34m=\u001b[0m \u001b[0mmapper\u001b[0m\u001b[0;34m.\u001b[0m\u001b[0mindex\u001b[0m\u001b[0;34m.\u001b[0m\u001b[0mget_indexer\u001b[0m\u001b[0;34m(\u001b[0m\u001b[0mvalues\u001b[0m\u001b[0;34m)\u001b[0m\u001b[0;34m\u001b[0m\u001b[0;34m\u001b[0m\u001b[0m\n\u001b[0m\u001b[1;32m    843\u001b[0m             \u001b[0mnew_values\u001b[0m \u001b[0;34m=\u001b[0m \u001b[0malgorithms\u001b[0m\u001b[0;34m.\u001b[0m\u001b[0mtake_nd\u001b[0m\u001b[0;34m(\u001b[0m\u001b[0mmapper\u001b[0m\u001b[0;34m.\u001b[0m\u001b[0m_values\u001b[0m\u001b[0;34m,\u001b[0m \u001b[0mindexer\u001b[0m\u001b[0;34m)\u001b[0m\u001b[0;34m\u001b[0m\u001b[0;34m\u001b[0m\u001b[0m\n\u001b[1;32m    844\u001b[0m \u001b[0;34m\u001b[0m\u001b[0m\n",
      "\u001b[0;32m~/anaconda3/envs/cities/lib/python3.8/site-packages/pandas/core/indexes/base.py\u001b[0m in \u001b[0;36mget_indexer\u001b[0;34m(self, target, method, limit, tolerance)\u001b[0m\n\u001b[1;32m   3435\u001b[0m         \u001b[0;31m# returned ndarray is np.intp\u001b[0m\u001b[0;34m\u001b[0m\u001b[0;34m\u001b[0m\u001b[0;34m\u001b[0m\u001b[0m\n\u001b[1;32m   3436\u001b[0m         \u001b[0mmethod\u001b[0m \u001b[0;34m=\u001b[0m \u001b[0mmissing\u001b[0m\u001b[0;34m.\u001b[0m\u001b[0mclean_reindex_fill_method\u001b[0m\u001b[0;34m(\u001b[0m\u001b[0mmethod\u001b[0m\u001b[0;34m)\u001b[0m\u001b[0;34m\u001b[0m\u001b[0;34m\u001b[0m\u001b[0m\n\u001b[0;32m-> 3437\u001b[0;31m         \u001b[0mtarget\u001b[0m \u001b[0;34m=\u001b[0m \u001b[0mself\u001b[0m\u001b[0;34m.\u001b[0m\u001b[0m_maybe_cast_listlike_indexer\u001b[0m\u001b[0;34m(\u001b[0m\u001b[0mtarget\u001b[0m\u001b[0;34m)\u001b[0m\u001b[0;34m\u001b[0m\u001b[0;34m\u001b[0m\u001b[0m\n\u001b[0m\u001b[1;32m   3438\u001b[0m \u001b[0;34m\u001b[0m\u001b[0m\n\u001b[1;32m   3439\u001b[0m         \u001b[0mself\u001b[0m\u001b[0;34m.\u001b[0m\u001b[0m_check_indexing_method\u001b[0m\u001b[0;34m(\u001b[0m\u001b[0mmethod\u001b[0m\u001b[0;34m,\u001b[0m \u001b[0mlimit\u001b[0m\u001b[0;34m,\u001b[0m \u001b[0mtolerance\u001b[0m\u001b[0;34m)\u001b[0m\u001b[0;34m\u001b[0m\u001b[0;34m\u001b[0m\u001b[0m\n",
      "\u001b[0;32m~/anaconda3/envs/cities/lib/python3.8/site-packages/pandas/core/indexes/base.py\u001b[0m in \u001b[0;36m_maybe_cast_listlike_indexer\u001b[0;34m(self, target)\u001b[0m\n\u001b[1;32m   5707\u001b[0m         \u001b[0mAnalogue\u001b[0m \u001b[0mto\u001b[0m \u001b[0mmaybe_cast_indexer\u001b[0m \u001b[0;32mfor\u001b[0m \u001b[0mget_indexer\u001b[0m \u001b[0minstead\u001b[0m \u001b[0mof\u001b[0m \u001b[0mget_loc\u001b[0m\u001b[0;34m.\u001b[0m\u001b[0;34m\u001b[0m\u001b[0;34m\u001b[0m\u001b[0m\n\u001b[1;32m   5708\u001b[0m         \"\"\"\n\u001b[0;32m-> 5709\u001b[0;31m         \u001b[0;32mreturn\u001b[0m \u001b[0mensure_index\u001b[0m\u001b[0;34m(\u001b[0m\u001b[0mtarget\u001b[0m\u001b[0;34m)\u001b[0m\u001b[0;34m\u001b[0m\u001b[0;34m\u001b[0m\u001b[0m\n\u001b[0m\u001b[1;32m   5710\u001b[0m \u001b[0;34m\u001b[0m\u001b[0m\n\u001b[1;32m   5711\u001b[0m     \u001b[0;34m@\u001b[0m\u001b[0mfinal\u001b[0m\u001b[0;34m\u001b[0m\u001b[0;34m\u001b[0m\u001b[0m\n",
      "\u001b[0;32m~/anaconda3/envs/cities/lib/python3.8/site-packages/pandas/core/indexes/base.py\u001b[0m in \u001b[0;36mensure_index\u001b[0;34m(index_like, copy)\u001b[0m\n\u001b[1;32m   6335\u001b[0m     \u001b[0;32melse\u001b[0m\u001b[0;34m:\u001b[0m\u001b[0;34m\u001b[0m\u001b[0;34m\u001b[0m\u001b[0m\n\u001b[1;32m   6336\u001b[0m \u001b[0;34m\u001b[0m\u001b[0m\n\u001b[0;32m-> 6337\u001b[0;31m         \u001b[0;32mreturn\u001b[0m \u001b[0mIndex\u001b[0m\u001b[0;34m(\u001b[0m\u001b[0mindex_like\u001b[0m\u001b[0;34m,\u001b[0m \u001b[0mcopy\u001b[0m\u001b[0;34m=\u001b[0m\u001b[0mcopy\u001b[0m\u001b[0;34m)\u001b[0m\u001b[0;34m\u001b[0m\u001b[0;34m\u001b[0m\u001b[0m\n\u001b[0m\u001b[1;32m   6338\u001b[0m \u001b[0;34m\u001b[0m\u001b[0m\n\u001b[1;32m   6339\u001b[0m \u001b[0;34m\u001b[0m\u001b[0m\n",
      "\u001b[0;32m~/anaconda3/envs/cities/lib/python3.8/site-packages/pandas/core/indexes/base.py\u001b[0m in \u001b[0;36m__new__\u001b[0;34m(cls, data, dtype, copy, name, tupleize_cols, **kwargs)\u001b[0m\n\u001b[1;32m    460\u001b[0m \u001b[0;34m\u001b[0m\u001b[0m\n\u001b[1;32m    461\u001b[0m                 \u001b[0;32mif\u001b[0m \u001b[0mdtype\u001b[0m \u001b[0;32mis\u001b[0m \u001b[0;32mNone\u001b[0m\u001b[0;34m:\u001b[0m\u001b[0;34m\u001b[0m\u001b[0;34m\u001b[0m\u001b[0m\n\u001b[0;32m--> 462\u001b[0;31m                     \u001b[0marr\u001b[0m \u001b[0;34m=\u001b[0m \u001b[0m_maybe_cast_data_without_dtype\u001b[0m\u001b[0;34m(\u001b[0m\u001b[0marr\u001b[0m\u001b[0;34m)\u001b[0m\u001b[0;34m\u001b[0m\u001b[0;34m\u001b[0m\u001b[0m\n\u001b[0m\u001b[1;32m    463\u001b[0m                     \u001b[0mdtype\u001b[0m \u001b[0;34m=\u001b[0m \u001b[0marr\u001b[0m\u001b[0;34m.\u001b[0m\u001b[0mdtype\u001b[0m\u001b[0;34m\u001b[0m\u001b[0;34m\u001b[0m\u001b[0m\n\u001b[1;32m    464\u001b[0m \u001b[0;34m\u001b[0m\u001b[0m\n",
      "\u001b[0;32m~/anaconda3/envs/cities/lib/python3.8/site-packages/pandas/core/indexes/base.py\u001b[0m in \u001b[0;36m_maybe_cast_data_without_dtype\u001b[0;34m(subarr)\u001b[0m\n\u001b[1;32m   6410\u001b[0m     \"\"\"\n\u001b[1;32m   6411\u001b[0m \u001b[0;34m\u001b[0m\u001b[0m\n\u001b[0;32m-> 6412\u001b[0;31m     result = lib.maybe_convert_objects(\n\u001b[0m\u001b[1;32m   6413\u001b[0m         \u001b[0msubarr\u001b[0m\u001b[0;34m,\u001b[0m\u001b[0;34m\u001b[0m\u001b[0;34m\u001b[0m\u001b[0m\n\u001b[1;32m   6414\u001b[0m         \u001b[0mconvert_datetime\u001b[0m\u001b[0;34m=\u001b[0m\u001b[0;32mTrue\u001b[0m\u001b[0;34m,\u001b[0m\u001b[0;34m\u001b[0m\u001b[0;34m\u001b[0m\u001b[0m\n",
      "\u001b[0;31mKeyboardInterrupt\u001b[0m: "
     ]
    }
   ],
   "source": [
    "# count the number of evacuees that have successfully reach their destination\n",
    "def arrival_counts_vect(t, simulation, save_path):\n",
    "    arrival_cnts = np.sum(simulation.agents.agents['agent_status']==-1)\n",
    "    print('At {} seconds, {} evacuees successfully reached the destination'.format(t, arrival_cnts))\n",
    "    if arrival_cnts == simulation.agents.agents.shape[0]:\n",
    "        print(\"all agents arrive at destinations at time {} seconds.\".format(t))\n",
    "        return False\n",
    "    with open(save_path, 'a') as t_stats_outfile:\n",
    "        t_stats_outfile.write(\"{},{}\".format(t, arrival_cnts) + \"\\n\")\n",
    "    return True\n",
    "\n",
    "# write a csv file that contains the numbers of queuing and running vehicles on each link\n",
    "def write_link_outputs_vect(simulation, save_path):\n",
    "    link_output = simulation.network.links.loc[\n",
    "        simulation.network.links['link_type'].isin(['real', 'virtual']), \n",
    "        ['link_id', 'queue', 'run', 'undeparted', 'length', 'geometry']].copy()\n",
    "    link_output = link_output[\n",
    "        (link_output['queue']>0) | (link_output['run']>0)\n",
    "        | (link_output['undeparted']>0)\n",
    "    ]\n",
    "    link_output.to_csv(save_path, index=False)\n",
    "\n",
    "\n",
    "### initialize simulation\n",
    "simulation_vect = sq_vect.Simulation()\n",
    "simulation_vect.initialize_simulation(nodes_df, links_df, od_df)\n",
    "\n",
    "### specify some parameters\n",
    "scenario_name = '{}_vect'.format(case)\n",
    "t_end = 7201\n",
    "arrival_output_path = 'traffic_outputs/{}/t_stats/arrivals_{}.csv'.format(case, scenario_name)\n",
    "\n",
    "### run simulation and output results\n",
    "with open(arrival_output_path, 'w') as t_stats_outfile:\n",
    "    t_stats_outfile.write(\"t,arrival_count\"+\"\\n\")\n",
    "\n",
    "# iterate through each time step\n",
    "t_start_vect = time.time()\n",
    "for t in range(t_end):\n",
    "        \n",
    "    # run the spatial-queue simulation for one step\n",
    "    simulation_vect.run_one_step(t, reroute_frequency=None)\n",
    "\n",
    "    # output time-step results every 100 seconds\n",
    "    if t%100 == 0:\n",
    "        if not arrival_counts_vect(t, simulation_vect, arrival_output_path):\n",
    "            break\n",
    "        link_output_path = 'traffic_outputs/{}/link_stats/l{}_at_{}.csv'.format(case, scenario_name, t)\n",
    "        #node_output_path = 'traffic_outputs/berkeley/node_stats/n{}_at_{}.csv'.format(scenario_name, t)\n",
    "        write_link_outputs_vect(simulation_vect, link_output_path)\n",
    "        #write_node_outputs(simulation_vect, node_output_path)\n",
    "\n",
    "print (\"simulation completed\")\n",
    "t_end_vect = time.time()\n",
    "print('Simulation took {}s'.format(t_end_vect - t_start_vect))\n",
    "    "
   ]
  },
  {
   "cell_type": "markdown",
   "metadata": {},
   "source": [
    "### This is the unvectorized simulation."
   ]
  },
  {
   "cell_type": "code",
   "execution_count": 6,
   "metadata": {},
   "outputs": [],
   "source": [
    "# remove vehicles from the simulation if no path can be found for it\n",
    "def remove_no_path_agents(simulation):\n",
    "    cannot_find_path = []\n",
    "    for vehicle_id, vehicle in simulation.all_agents.items():\n",
    "        routing_status = vehicle.get_path( g=simulation.g )\n",
    "        if routing_status == 'no_path_found':\n",
    "            cannot_find_path.append(vehicle_id)\n",
    "\n",
    "    for vehicle_id in cannot_find_path:\n",
    "        del simulation.all_agents[vehicle_id]\n",
    "      \n",
    "    print('# o-d pairs whose paths cannot be found: {}'.format(len(cannot_find_path)))\n",
    "    print('# o-d pairs/trips {}'.format(len(simulation.all_agents)))\n",
    "    return simulation\n",
    "\n",
    "# initialize the spatial-queue model\n",
    "def init_sq_simulation(nodes_df, links_df, od_df):\n",
    "\n",
    "    simulation = sq_loop.Simulation()\n",
    "    simulation.create_network(nodes_df, links_df)\n",
    "    simulation.create_demand(od_df)\n",
    "\n",
    "    simulation = remove_no_path_agents(simulation)\n",
    "    return simulation\n",
    "\n",
    "# run the spatial-queue simulation for one time step\n",
    "def single_step_sq_sim(simulation,t,reroute_frequency):\n",
    "    ### load agents\n",
    "    for agent_id, agent in simulation.all_agents.items(): \n",
    "        agent.load_trips(t)\n",
    "        ### reroute\n",
    "        if (t>0) and (t%reroute_frequency == 0):\n",
    "            routing_status = agent.get_path( g=simulation.g )\n",
    "    ### run link model\n",
    "    for link_id, link in simulation.all_links.items():\n",
    "        link.run_link_model(t)\n",
    "    ### run node model\n",
    "    node_ids_to_run = set([link.end_nid for link in simulation.all_links.values() if len(link.queue_veh)>0])\n",
    "    for node_id in node_ids_to_run:\n",
    "        node = simulation.all_nodes[node_id] \n",
    "        node.run_node_model(t)\n",
    "    return simulation\n",
    "\n",
    "# count the number of evacuees that have successfully reach their destination\n",
    "def arrival_counts(t,simulation,save_path):\n",
    "    arrival_cnts = np.sum([1 for a in simulation.all_agents.values() if a.status=='arr'])\n",
    "    print('At {} seconds, {} evacuees successfully reached the destination'.format(t, arrival_cnts))\n",
    "    if arrival_cnts == len(simulation.all_agents):\n",
    "        print(\"all agents arrive at destinations at time {} seconds.\".format(t))\n",
    "        return False\n",
    "    with open(save_path, 'a') as t_stats_outfile:\n",
    "        t_stats_outfile.write(\"{},{}\".format(t, arrival_cnts) + \"\\n\")\n",
    "    return True\n",
    "\n",
    "# write a csv file that contains the numbers of queuing and running vehicles on each link\n",
    "def write_link_outputs(simulation,save_path):\n",
    "    link_output = pd.DataFrame(\n",
    "        [(link.lid, len(link.queue_veh), len(link.run_veh), \n",
    "          np.round((len(link.queue_veh)+len(link.run_veh))/(link.length * link.lanes+0.00001)*100, 2), \n",
    "          link.geometry) for link in simulation.all_links.values() \n",
    "         #if link.ltype[0:2]!='vl'\n",
    "        ], \n",
    "        columns=['link_id', 'queue_vehicle_count', 'run_vehicle_count', 'vehicle_per_100m', 'geometry'])\n",
    "    link_output = link_output[(link_output['queue_vehicle_count']>0) | (link_output['run_vehicle_count']>0)].reset_index(drop=True)\n",
    "    link_output.to_csv(save_path, index=False)\n",
    "\n",
    "# write a csv file that contains the numbers of vehicles that have not departed and waiting at each node\n",
    "def write_node_outputs(simulation,save_path):\n",
    "    node_predepart = pd.DataFrame([(agent.cle, 1) for agent in simulation.all_agents.values() if (agent.status in [None, 'loaded'])], columns=['node_id', 'predepart_cnt']).groupby('node_id').agg({'predepart_cnt': np.sum}).reset_index()\n",
    "    if node_predepart.shape[0]>0:\n",
    "        node_predepart = node_predepart.merge(nodes_df[['node_id', 'lat', 'lon']], how='left', on='node_id')\n",
    "        node_predepart.to_csv(save_path, index=False)\n",
    "\n",
    "def spatial_queue_simulation(t_end,simulation,scenario_name,reroute_frequency):\n",
    "    # paths \n",
    "    arrival_output_path = 'traffic_outputs/{}/t_stats/arrivals_{}.csv'.format(case, scenario_name)\n",
    "    with open(arrival_output_path, 'w') as t_stats_outfile:\n",
    "        t_stats_outfile.write(\"t,arrival_count\"+\"\\n\")\n",
    "\n",
    "    t_start_loop = time.time()\n",
    "    # iterate through each time step\n",
    "    for t in range(t_end):\n",
    "\n",
    "        # run the spatial-queue simulation for one step\n",
    "        simulation = single_step_sq_sim(simulation,t,reroute_frequency)\n",
    "\n",
    "        # output time-step results every 100 seconds\n",
    "        if t%100 == 0:\n",
    "            if not arrival_counts(t,simulation,arrival_output_path):\n",
    "                break\n",
    "            link_output_path = 'traffic_outputs/{}/link_stats/l{}_at_{}.csv'.format(case, scenario_name, t)\n",
    "            node_output_path = 'traffic_outputs/{}/node_stats/n{}_at_{}.csv'.format(case, scenario_name, t)\n",
    "            write_link_outputs(simulation,link_output_path)\n",
    "            write_node_outputs(simulation,node_output_path)\n",
    "\n",
    "    print (\"simulation completed\")\n",
    "    t_end_loop = time.time()\n",
    "    print(\"Simulation took {}s\".format(t_end_loop-t_start_loop))\n",
    "    return simulation"
   ]
  },
  {
   "cell_type": "code",
   "execution_count": 9,
   "metadata": {},
   "outputs": [
    {
     "name": "stdout",
     "output_type": "stream",
     "text": [
      "# o-d pairs whose paths cannot be found: 0\n",
      "# o-d pairs/trips 3947\n",
      "At 0 seconds, 0.0 evacuees successfully reached the destination\n",
      "At 100 seconds, 78 evacuees successfully reached the destination\n",
      "At 200 seconds, 261 evacuees successfully reached the destination\n",
      "At 300 seconds, 470 evacuees successfully reached the destination\n",
      "At 400 seconds, 643 evacuees successfully reached the destination\n",
      "At 500 seconds, 826 evacuees successfully reached the destination\n",
      "At 600 seconds, 1006 evacuees successfully reached the destination\n",
      "At 700 seconds, 1159 evacuees successfully reached the destination\n",
      "At 800 seconds, 1305 evacuees successfully reached the destination\n",
      "At 900 seconds, 1460 evacuees successfully reached the destination\n",
      "At 1000 seconds, 1620 evacuees successfully reached the destination\n",
      "At 1100 seconds, 1757 evacuees successfully reached the destination\n",
      "At 1200 seconds, 1905 evacuees successfully reached the destination\n",
      "At 1300 seconds, 2031 evacuees successfully reached the destination\n",
      "At 1400 seconds, 2153 evacuees successfully reached the destination\n",
      "At 1500 seconds, 2287 evacuees successfully reached the destination\n",
      "At 1600 seconds, 2402 evacuees successfully reached the destination\n",
      "At 1700 seconds, 2546 evacuees successfully reached the destination\n",
      "At 1800 seconds, 2683 evacuees successfully reached the destination\n",
      "At 1900 seconds, 2820 evacuees successfully reached the destination\n",
      "At 2000 seconds, 2958 evacuees successfully reached the destination\n",
      "At 2100 seconds, 3097 evacuees successfully reached the destination\n",
      "At 2200 seconds, 3237 evacuees successfully reached the destination\n",
      "At 2300 seconds, 3381 evacuees successfully reached the destination\n",
      "At 2400 seconds, 3455 evacuees successfully reached the destination\n",
      "At 2500 seconds, 3504 evacuees successfully reached the destination\n",
      "At 2600 seconds, 3571 evacuees successfully reached the destination\n",
      "At 2700 seconds, 3625 evacuees successfully reached the destination\n",
      "At 2800 seconds, 3676 evacuees successfully reached the destination\n",
      "At 2900 seconds, 3724 evacuees successfully reached the destination\n",
      "At 3000 seconds, 3776 evacuees successfully reached the destination\n",
      "At 3100 seconds, 3813 evacuees successfully reached the destination\n",
      "At 3200 seconds, 3840 evacuees successfully reached the destination\n",
      "At 3300 seconds, 3864 evacuees successfully reached the destination\n",
      "At 3400 seconds, 3893 evacuees successfully reached the destination\n",
      "At 3500 seconds, 3922 evacuees successfully reached the destination\n",
      "At 3600 seconds, 3945 evacuees successfully reached the destination\n",
      "At 3700 seconds, 3947 evacuees successfully reached the destination\n",
      "all agents arrive at destinations at time 3700 seconds.\n",
      "simulation completed\n",
      "Simulation took 28.576654195785522s\n"
     ]
    },
    {
     "data": {
      "text/plain": [
       "<model.queue_class_ce170.Simulation at 0x7f8839334ca0>"
      ]
     },
     "execution_count": 9,
     "metadata": {},
     "output_type": "execute_result"
    }
   ],
   "source": [
    "simulation = init_sq_simulation(nodes_df,links_df,od_df)\n",
    "spatial_queue_simulation(4200, simulation, '{}_loop'.format(case), 36000)"
   ]
  },
  {
   "cell_type": "markdown",
   "metadata": {},
   "source": [
    "### Plot results"
   ]
  },
  {
   "cell_type": "code",
   "execution_count": 19,
   "metadata": {},
   "outputs": [
    {
     "data": {
      "image/png": "[encoded data removed]",
      "text/plain": [
       "<Figure size 576x288 with 1 Axes>"
      ]
     },
     "metadata": {
      "needs_background": "light"
     },
     "output_type": "display_data"
    }
   ],
   "source": [
    "### plot the arrival curve\n",
    "fig, ax = plt.subplots(figsize=(8, 4))\n",
    "\n",
    "### base scenario arrival\n",
    "t_stats_loop_df = pd.read_csv('traffic_outputs/{}/t_stats/arrivals_{}_loop.csv'.format(case, case))\n",
    "ax.plot(t_stats_loop_df['t'], t_stats_loop_df['arrival_count'], label='loop')\n",
    "\n",
    "t_stats_vect_df = pd.read_csv('traffic_outputs/{}/t_stats/arrivals_{}_vect.csv'.format(case, case))\n",
    "ax.plot(t_stats_vect_df['t'], t_stats_vect_df['arrival_count'], label='vect')\n",
    "\n",
    "ax.set_xlabel('Time since the start of the evacuation')\n",
    "ax.set_ylabel('# arrived vehicles')\n",
    "ax.set_xlim([0, 10800])\n",
    "plt.legend()\n",
    "plt.title('{}, loop {}s, vect {}s'.format(case, 29, 98))\n",
    "plt.show()"
   ]
  },
  {
   "cell_type": "code",
   "execution_count": null,
   "metadata": {},
   "outputs": [],
   "source": []
  }
 ],
 "metadata": {
  "kernelspec": {
   "display_name": "cities",
   "language": "python",
   "name": "cities"
  },
  "language_info": {
   "codemirror_mode": {
    "name": "ipython",
    "version": 3
   },
   "file_extension": ".py",
   "mimetype": "text/x-python",
   "name": "python",
   "nbconvert_exporter": "python",
   "pygments_lexer": "ipython3",
   "version": "3.8.10"
  }
 },
 "nbformat": 4,
 "nbformat_minor": 2
}

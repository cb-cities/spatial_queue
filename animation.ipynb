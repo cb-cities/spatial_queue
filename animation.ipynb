{
 "cells": [
  {
   "cell_type": "code",
   "execution_count": null,
   "metadata": {},
   "outputs": [],
   "source": [
    "import scipy.io as sio\n",
    "import json\n",
    "import sys\n",
    "import numpy as np \n",
    "import pandas as pd \n",
    "import geopandas as gpd\n",
    "import os \n",
    "import random\n",
    "import matplotlib as mpl \n",
    "import matplotlib.pyplot as plt \n",
    "import matplotlib.colors as pltcolors\n",
    "import descartes \n",
    "import shapely.wkt \n",
    "import shapely.ops\n",
    "import gc \n",
    "%matplotlib inline\n",
    "\n",
    "absolute_path = '/home/bingyu/Documents/spatial_queue'\n",
    "\n",
    "network_file_edges = '/projects/bolinas_stinson_beach/network_inputs/osm_edges.csv'\n",
    "simulation_outputs = '/projects/bolinas_stinson_beach/simulation_outputs'\n",
    "visualization_outputs = '/projects/bolinas_stinson_beach/visualization_outputs'"
   ]
  },
  {
   "cell_type": "code",
   "execution_count": null,
   "metadata": {},
   "outputs": [],
   "source": [
    "def make_img(t=0, memory=None):\n",
    "\n",
    "    ### Get edge veh counts\n",
    "    \n",
    "    road_df = pd.read_csv(absolute_path + network_file_edges)\n",
    "    veh_df = pd.read_csv(absolute_path + simulation_outputs +'/veh_loc/veh_loc_{}s.csv'.format(t))\n",
    "    \n",
    "    road_gdf = gpd.GeoDataFrame(road_df, \n",
    "        crs={'init': 'epsg:4326'}, \n",
    "        geometry=road_df['geometry'].map(shapely.wkt.loads))\n",
    "#     road_gdf = road_gdf.cx[-122.274061:-122.270398, 37.888713:37.890615]\n",
    "    \n",
    "    veh_gdf = gpd.GeoDataFrame(veh_df, \n",
    "                               crs={'init': 'epsg:4326'},\n",
    "                               geometry=gpd.points_from_xy(veh_df.lon, veh_df.lat))\n",
    "#     veh_gdf = veh_gdf.cx[-122.274061:-122.270398, 37.888713:37.890615]\n",
    "    r = lambda: random.randint(0,255)\n",
    "    \n",
    "    def id_to_random_color(number, memory):\n",
    "        if not number in memory:\n",
    "            hexcolor = '#%02X%02X%02X' % (r(),r(),r())\n",
    "            memory[number] = hexcolor\n",
    "        return memory[number]\n",
    "    \n",
    "    veh_gdf['color'] = veh_gdf.apply(lambda x: id_to_random_color(x['v_id'], memory), axis=1)\n",
    "\n",
    "    fig = plt.figure(figsize=(10, 10))\n",
    "    \n",
    "    ax1 = fig.add_axes([0.05, 0, 0.9, 0.9])\n",
    "    ax1.tick_params(axis='both', which='both', bottom=False, top=False, labelbottom=False, right=False, left=False, labelleft=False)\n",
    "    road_plot = road_gdf.plot(ax=ax1, lw=0.5, color=[0.7,0.7,0.7,0.5])\n",
    "    veh_plot = veh_gdf.plot(ax=ax1, color=veh_gdf['color'])\n",
    "\n",
    "    fig.text(0.5, 0.85, '{} sec into evacuation'.format(t), fontsize=30, ha='center', va='center')\n",
    "#     plt.show()\n",
    "    # sys.exit(0)\n",
    "    plt.savefig(absolute_path + visualization_outputs + '/veh_loc_plot/veh_loc_t{}.png'.format(t), transparent=True)\n",
    "    plt.close()\n",
    "    \n",
    "    return memory"
   ]
  },
  {
   "cell_type": "code",
   "execution_count": null,
   "metadata": {},
   "outputs": [],
   "source": [
    "def make_gif(memory=None):\n",
    "\n",
    "    import imageio\n",
    "\n",
    "    images = []\n",
    "    for t in range(100,150):\n",
    "#         memory = make_img(t=t, memory=memory)\n",
    "        images.append(imageio.imread('outputs/veh_loc_plot/veh_loc_t{}.png'.format(t)))\n",
    "    imageio.mimsave('outputs/veh_loc_plot/veh_loc_animation.gif', images, fps=2)"
   ]
  },
  {
   "cell_type": "code",
   "execution_count": null,
   "metadata": {},
   "outputs": [],
   "source": [
    "random.seed(0)\n",
    "np.random.seed(0)\n",
    "memory={}\n",
    "make_img(t=80)\n",
    "# make_gif(memory=memory)"
   ]
  },
  {
   "cell_type": "code",
   "execution_count": null,
   "metadata": {},
   "outputs": [],
   "source": []
  }
 ],
 "metadata": {
  "kernelspec": {
   "display_name": "Python (geo)",
   "language": "python",
   "name": "geo"
  },
  "language_info": {
   "codemirror_mode": {
    "name": "ipython",
    "version": 3
   },
   "file_extension": ".py",
   "mimetype": "text/x-python",
   "name": "python",
   "nbconvert_exporter": "python",
   "pygments_lexer": "ipython3",
   "version": "3.7.3"
  }
 },
 "nbformat": 4,
 "nbformat_minor": 2
}
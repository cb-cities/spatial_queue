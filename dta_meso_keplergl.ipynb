{
 "cells": [
  {
   "cell_type": "code",
   "execution_count": 1,
   "metadata": {},
   "outputs": [],
   "source": [
    "from keplergl import KeplerGl\n",
    "# tmp = map1.config\n",
    "# with open('keplergl_config.json', 'w') as outfile:\n",
    "#     json.dump(tmp, outfile, indent=2)\n",
    "# map_config = json.load(open('keplergl_config.json'))\n",
    "# map1=KeplerGl(height=400, config=map_config)\n",
    "# map1.config = map_config\n",
    "# map1\n",
    "# map1.save_to_html(file_name=\"my_keplergl_map.html\")\n",
    "\n",
    "import model.dta_meso_butte as dta_meso\n",
    "\n",
    "import json\n",
    "import pandas as pd \n",
    "import geopandas as gpd\n",
    "from shapely.geometry import Point\n",
    "from shapely.wkt import loads\n",
    "\n",
    "import random\n",
    "import numpy as np\n",
    "random.seed(0)\n",
    "np.random.seed(0)"
   ]
  },
  {
   "cell_type": "code",
   "execution_count": 2,
   "metadata": {},
   "outputs": [],
   "source": [
    "def extract_vehicle_locations(network):\n",
    "    agents_dict = network.agents.copy()\n",
    "    links_dict = network.links.copy()\n",
    "    queue_vehicle_position = []\n",
    "    run_vehicle_position = []\n",
    "    for link_id, link in links_dict.items():\n",
    "        if link.link_type == 'v':\n",
    "            continue\n",
    "        link_geometry = link.geometry\n",
    "        link_length = link.geometry.length\n",
    "        link_lanes = link.lanes\n",
    "        queue_vehicle_i, run_vehicle_i = 0, 0\n",
    "        for vehicle in link.queue_vehicles:\n",
    "            vehicle_pos = link_geometry.interpolate( link_length - queue_vehicle_i*8/link_lanes )\n",
    "            queue_vehicle_position.append([vehicle, vehicle_pos.x, vehicle_pos.y])\n",
    "            queue_vehicle_i += 1\n",
    "        for vehicle in link.run_vehicles:\n",
    "            vehicle_pos = link_geometry.interpolate( run_vehicle_i*8/link_lanes )\n",
    "            run_vehicle_position.append([vehicle, vehicle_pos.x, vehicle_pos.y])\n",
    "            run_vehicle_i += 1\n",
    "    return run_vehicle_position, queue_vehicle_position\n",
    "\n",
    "def make_gdf(vehicle_position_list):\n",
    "    vehicle_position_df = pd.DataFrame(vehicle_position_list, columns=['vehicle_id', 'x', 'y'])\n",
    "    vehicle_position_gdf = gpd.GeoDataFrame(vehicle_position_df, crs='epsg:26910', geometry=[Point(xy) for xy in zip(vehicle_position_df['x'], vehicle_position_df['y'])]).to_crs('epsg:4326')\n",
    "    vehicle_position_gdf['lon'] = vehicle_position_gdf['geometry'].apply(lambda x: x.x)\n",
    "    vehicle_position_gdf['lat'] = vehicle_position_gdf['geometry'].apply(lambda x: x.y)\n",
    "    vehicle_position_gdf = vehicle_position_gdf[['vehicle_id', 'lon', 'lat']]\n",
    "    return vehicle_position_gdf\n",
    "\n",
    "def add_fire(map_vehicles, fire_df):\n",
    "    fire_polygons = []\n",
    "    for fire in fire_df.loc[fire_df['lon']<-120].itertuples():\n",
    "        fire_start_time = getattr(fire, 'start_time')\n",
    "        fire_end_time = getattr(fire, 'end_time')\n",
    "        fire_speed = getattr(fire, 'speed')\n",
    "        fire_type = getattr(fire, 'type')\n",
    "        fire_origin = getattr(fire, 'geometry')\n",
    "        fire_offset_dist = getattr(fire, 'offset')\n",
    "        if fire_start_time > 2000:\n",
    "            fire_polygons.append([fire_type, fire_origin.buffer(1)])\n",
    "        elif fire_type != 'initial':\n",
    "            fire_polygons.append([fire_type, fire_origin.buffer(fire_offset_dist)])\n",
    "        else:\n",
    "            fire_time = min(fire_end_time, max(fire_start_time, 2000)) - fire_start_time\n",
    "            fire_polygons.append([fire_type, fire_origin.buffer(fire_speed * fire_time)])\n",
    "    fire_polygons_df = pd.DataFrame(fire_polygons, columns=['fire_type', 'geometry'])\n",
    "    fire_polygons_gdf = gpd.GeoDataFrame(fire_polygons_df, crs='epsg:26910', geometry=fire_polygons_df['geometry']).to_crs('epsg:4326')\n",
    "    \n",
    "    map_vehicles.add_data(data=fire_polygons_gdf, name='fire_polygons')\n",
    "    return map_vehicles\n",
    "\n",
    "def make_map(network):\n",
    "    run_vehicle_position, queue_vehicle_position = extract_vehicle_locations(network)\n",
    "    queue_vehicle_position_gdf = make_gdf(queue_vehicle_position)\n",
    "    run_vehicle_position_gdf = make_gdf(run_vehicle_position)\n",
    "\n",
    "    with open('keplergl_config.json') as jsonfile:\n",
    "        map_config = json.load(jsonfile)\n",
    "    map_vehicles = KeplerGl(height=400, config=map_config)\n",
    "    # map_vehicles = KeplerGl(height=400)\n",
    "    map_vehicles.add_data(data=queue_vehicle_position_gdf, name='queue vehicles')\n",
    "    map_vehicles.add_data(data=run_vehicle_position_gdf, name='run vehicles')\n",
    "    return map_vehicles"
   ]
  },
  {
   "cell_type": "code",
   "execution_count": 3,
   "metadata": {},
   "outputs": [
    {
     "output_type": "stream",
     "name": "stdout",
     "text": [
      "full_dict_c0.1_d1\n",
      "log file created\n",
      "# agents from file  20114\n"
     ]
    }
   ],
   "source": [
    "# preparation\n",
    "network, evacuation_zone, evacuation_buffer, fire_df, check_traffic_flow_links, scen_nm, simulation_outputs = dta_meso.preparation(random_seed=0, dept_time_col='dept_time_scen_1')\n",
    "\n",
    "fitness=0\n",
    "for t in range(0, 1):\n",
    "    step_fitness, network = dta_meso.one_step(t, network, evacuation_zone, evacuation_buffer, fire_df, check_traffic_flow_links, scen_nm, simulation_outputs)\n",
    "    fitness += step_fitness"
   ]
  },
  {
   "cell_type": "code",
   "execution_count": 4,
   "metadata": {},
   "outputs": [
    {
     "output_type": "stream",
     "name": "stdout",
     "text": [
      "User Guide: https://docs.kepler.gl/docs/keplergl-jupyter\n",
      "Map saved to projects/butte_osmnx/visualization_outputs/map_200.html!\n",
      "User Guide: https://docs.kepler.gl/docs/keplergl-jupyter\n",
      "Map saved to projects/butte_osmnx/visualization_outputs/map_2000.html!\n",
      "User Guide: https://docs.kepler.gl/docs/keplergl-jupyter\n",
      "Map saved to projects/butte_osmnx/visualization_outputs/map_4000.html!\n",
      "User Guide: https://docs.kepler.gl/docs/keplergl-jupyter\n",
      "Map saved to projects/butte_osmnx/visualization_outputs/map_6000.html!\n",
      "User Guide: https://docs.kepler.gl/docs/keplergl-jupyter\n",
      "Map saved to projects/butte_osmnx/visualization_outputs/map_8000.html!\n",
      "User Guide: https://docs.kepler.gl/docs/keplergl-jupyter\n",
      "Map saved to projects/butte_osmnx/visualization_outputs/map_12000.html!\n",
      "User Guide: https://docs.kepler.gl/docs/keplergl-jupyter\n",
      "Map saved to projects/butte_osmnx/visualization_outputs/map_14000.html!\n",
      "User Guide: https://docs.kepler.gl/docs/keplergl-jupyter\n",
      "Map saved to projects/butte_osmnx/visualization_outputs/map_16000.html!\n",
      "User Guide: https://docs.kepler.gl/docs/keplergl-jupyter\n",
      "Map saved to projects/butte_osmnx/visualization_outputs/map_18000.html!\n"
     ]
    }
   ],
   "source": [
    "visualization_t_list = {200, 2000, 4000, 6000, 8000, 12000, 14000, 16000, 18000}\n",
    "for t in range(1, 18001):\n",
    "    step_fitness, network = dta_meso.one_step(t, network, evacuation_zone, evacuation_buffer, fire_df, check_traffic_flow_links, scen_nm, simulation_outputs)\n",
    "    if step_fitness is not None:\n",
    "        fitness += step_fitness\n",
    "    if t in visualization_t_list:\n",
    "        # visualization_t_dict[t] = make_map(network)\n",
    "        map = make_map(network)\n",
    "        map = add_fire(map, fire_df)\n",
    "        map.save_to_html(file_name=\"projects/butte_osmnx/visualization_outputs/map_{}.html\".format(t))"
   ]
  },
  {
   "cell_type": "code",
   "execution_count": null,
   "metadata": {},
   "outputs": [],
   "source": []
  }
 ],
 "metadata": {
  "kernelspec": {
   "display_name": "Python 3",
   "language": "python",
   "name": "python3"
  },
  "language_info": {
   "codemirror_mode": {
    "name": "ipython",
    "version": 3
   },
   "file_extension": ".py",
   "mimetype": "text/x-python",
   "name": "python",
   "nbconvert_exporter": "python",
   "pygments_lexer": "ipython3",
   "version": "3.8.5-final"
  }
 },
 "nbformat": 4,
 "nbformat_minor": 2
}
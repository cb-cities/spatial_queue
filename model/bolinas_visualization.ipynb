{
 "cells": [
  {
   "cell_type": "code",
   "execution_count": 1,
   "metadata": {},
   "outputs": [],
   "source": [
    "import numpy as np\n",
    "import pandas as pd \n",
    "import matplotlib.pyplot as plt \n",
    "%matplotlib inline"
   ]
  },
  {
   "cell_type": "code",
   "execution_count": null,
   "metadata": {},
   "outputs": [],
   "source": [
    "fig, ax = plt.subplots(figsize=(10, 5))\n",
    "colors = iter(plt.rcParams['axes.prop_cycle'].by_key()['color'])\n",
    "for commscen in [0, 1, 2]:\n",
    "    c = next(colors)\n",
    "    ### residents informed\n",
    "    od = pd.read_csv('projects/bolinas_stinson_beach/demand_inputs/od_rs0_commscen{}_pop1500.csv'.format(commscen))\n",
    "    od_cnts_t = od.groupby('dept_time').size().reset_index().rename(columns={0: 'od_cnts'})\n",
    "    od_cnts_t['tot_od_cnts'] = od_cnts_t['od_cnts'].cumsum()\n",
    "    od_cnts_t.head()\n",
    "    plt.plot(od_cnts_t['dept_time']/3600, od_cnts_t['tot_od_cnts'], color=c, label='informed, comm scen {}'.format(commscen+1))\n",
    "    ### arrival\n",
    "    t_stats = pd.read_csv('projects/bolinas_stinson_beach/simulation_outputs/t_stats/t_stats_rs0_f1_c{}_p1500.csv'.format(commscen))\n",
    "    plt.plot(t_stats['t']/3600, t_stats['arr'], color=c, linestyle=':', label='arrived, comm scen {}'.format(commscen+1))\n",
    "plt.gca().spines['right'].set_color('none')\n",
    "plt.gca().spines['top'].set_color('none')\n",
    "plt.ylim([0, 1600])\n",
    "plt.xlabel('Hour')\n",
    "plt.ylabel('Vehicles informed/arrived')\n",
    "plt.legend()\n",
    "plt.show()"
   ]
  },
  {
   "cell_type": "code",
   "execution_count": 34,
   "metadata": {},
   "outputs": [],
   "source": [
    "links_df = pd.read_csv('projects/bolinas_stinson_beach/network_inputs/osm_edges.csv')\n",
    "link_queue_duration = pd.read_csv('projects/bolinas_stinson_beach/simulation_outputs/link_stats/link_queue_duration_rs0_f1_c2_p1500.csv')\n",
    "link_queue_duration = pd.merge(link_queue_duration, links_df[['edge_id_igraph', 'geometry']], left_on='link_id', right_on='edge_id_igraph', how='left')\n",
    "# link_queue_duration.head()\n",
    "link_queue_duration.to_csv('projects/bolinas_stinson_beach/visualization_outputs/link_queue_duration/link_queue_duration_rs0_f1_c2_p1500.csv', index=False)"
   ]
  },
  {
   "cell_type": "code",
   "execution_count": null,
   "metadata": {},
   "outputs": [],
   "source": []
  }
 ],
 "metadata": {
  "language_info": {
   "codemirror_mode": {
    "name": "ipython",
    "version": 3
   },
   "file_extension": ".py",
   "mimetype": "text/x-python",
   "name": "python",
   "nbconvert_exporter": "python",
   "pygments_lexer": "ipython3",
   "version": "3.7.7-final"
  },
  "orig_nbformat": 2,
  "kernelspec": {
   "name": "python3",
   "display_name": "Python 3"
  }
 },
 "nbformat": 4,
 "nbformat_minor": 2
}
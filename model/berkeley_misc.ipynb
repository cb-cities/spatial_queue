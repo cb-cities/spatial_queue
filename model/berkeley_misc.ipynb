{
 "cells": [
  {
   "cell_type": "code",
   "execution_count": 2,
   "metadata": {},
   "outputs": [],
   "source": [
    "import numpy as np \n",
    "import pandas as pd \n",
    "import geopandas as gpd\n",
    "from shapely.wkt import loads\n",
    "import matplotlib.pyplot as plt\n",
    "%matplotlib inline\n",
    "\n",
    "import util.haversine as haversine"
   ]
  },
  {
   "cell_type": "code",
   "execution_count": 3,
   "metadata": {},
   "outputs": [
    {
     "name": "stdout",
     "output_type": "stream",
     "text": [
      "POLYGON ((-122.2407279323787 37.893702330125, -122.2404420871952 37.89908159994273, -122.2416828294798 37.90406173866243, -122.2443159601947 37.90810303091866, -122.2480562216661 37.91076746230701, -122.252498174598 37.91176621781662, -122.2571601859552 37.91099101426586, -122.26153673893 37.90852585664912, -122.2651533467311 37.9046379350266, -122.2676180631413 37.89974864837158, -122.2686639688112 37.89438790469149, -122.2681780238983 37.88913666440806, -122.2662131909996 37.88456396717114, -122.2629825681495 37.88116527340928, -122.2588362214503 37.87930879977119, -122.2542232593414 37.87919565276334, -122.2496432543264 37.88083806572945, -122.2455922386266 37.88405808492575, -122.2425090703845 37.88850684213438, -122.2407279323787 37.893702330125))\n",
      "0\n",
      "500\n",
      "1000\n",
      "1500\n",
      "2000\n",
      "2500\n",
      "3000\n",
      "3500\n",
      "4000\n",
      "4500\n",
      "5000\n",
      "5500\n",
      "6000\n",
      "6500\n",
      "7000\n",
      "7500\n",
      "8000\n",
      "8500\n",
      "9000\n",
      "9500\n",
      "10000\n",
      "10500\n",
      "11000\n",
      "11500\n",
      "    t    avg_fdist  neg_fdist\n",
      "0   0  2569.139320          0\n",
      "1  10  2555.925180          0\n",
      "2  20  2542.711041          0\n",
      "3  30  2529.496902          0\n",
      "4  40  2516.282763          0\n",
      "          t   avg_fdist  neg_fdist\n",
      "1195  11950  535.004974       2531\n",
      "1196  11960  534.453224       2531\n",
      "1197  11970  533.901473       2554\n",
      "1198  11980  533.349722       2554\n",
      "1199  11990  532.797972       2554\n"
     ]
    }
   ],
   "source": [
    "### numbers of vehicles in fire frontier if no vehicles move\n",
    "fire_speed = 1\n",
    "fire_frontier = pd.read_csv(open('projects/berkeley/demand_inputs/fire_fitted_ellipse.csv'))\n",
    "fire_frontier['t'] = (fire_frontier['t']-900)/fire_speed ### suppose fire starts at 11.15am\n",
    "fire_frontier = gpd.GeoDataFrame(fire_frontier, crs={'init':'epsg:4326'}, geometry=fire_frontier['geometry'].map(loads))\n",
    "print(fire_frontier.loc[fire_frontier['t'].idxmax(), 'geometry'])\n",
    "\n",
    "def fire_distance(veh_loc, t):\n",
    "    [veh_o_id, veh_lon, veh_lat] = zip(*veh_loc)\n",
    "    if t>=np.max(fire_frontier['t']):\n",
    "        fire_frontier_now = fire_frontier.loc[fire_frontier['t'].idxmax(), 'geometry']\n",
    "        veh_fire_dist = haversine.point_to_vertex_dist(veh_lon, veh_lat, fire_frontier_now)\n",
    "    else:\n",
    "        t_before = np.max(fire_frontier.loc[fire_frontier['t']<=t, 't'])\n",
    "        t_after = np.min(fire_frontier.loc[fire_frontier['t']>t, 't'])\n",
    "        fire_frontier_before = fire_frontier.loc[fire_frontier['t']==t_before, 'geometry'].values[0]\n",
    "        fire_frontier_after = fire_frontier.loc[fire_frontier['t']==t_after, 'geometry'].values[0]\n",
    "        veh_fire_dist_before = haversine.point_to_vertex_dist(veh_lon, veh_lat, fire_frontier_before)\n",
    "        veh_fire_dist_after = haversine.point_to_vertex_dist(veh_lon, veh_lat, fire_frontier_after)\n",
    "        veh_fire_dist = veh_fire_dist_before * (t_after-t)/(t_after-t_before) + veh_fire_dist_after * (t-t_before)/(t_after-t_before)\n",
    "#     print(np.unique([veh_o_id[i] for i in range(len(veh_fire_dist)) if veh_fire_dist[i]<0]))\n",
    "    return np.mean(veh_fire_dist), np.sum(veh_fire_dist<0)\n",
    "\n",
    "nodes = pd.read_csv(open('projects/berkeley/network_inputs/osm_nodes.csv'))\n",
    "od = pd.read_csv(open('projects/berkeley/demand_inputs/od.csv'))\n",
    "node_coord_dict = {getattr(row, 'node_osmid'): [getattr(row, 'lon'), getattr(row, 'lat')] for row in nodes.itertuples()}\n",
    "od_veh_loc = [[getattr(row, 'o_osmid')] + node_coord_dict[getattr(row, 'o_osmid')] for row in od.itertuples()]\n",
    "fire_frontier_ref = []\n",
    "for t in range(0, 12000, 10):\n",
    "    if t%500 == 0: print(t)\n",
    "    fire_dist_t = fire_distance(od_veh_loc, t)\n",
    "    fire_frontier_ref.append([t, fire_dist_t[0], fire_dist_t[1]])\n",
    "fire_frontier_ref_df = pd.DataFrame(fire_frontier_ref, columns=['t', 'avg_fdist', 'neg_fdist'])\n",
    "print(fire_frontier_ref_df.head())\n",
    "print(fire_frontier_ref_df.tail())\n",
    "fire_frontier_ref_df.to_csv('projects/berkeley/demand_inputs/fdist_ref.csv', index=False)"
   ]
  },
  {
   "cell_type": "code",
   "execution_count": null,
   "metadata": {},
   "outputs": [],
   "source": []
  }
 ],
 "metadata": {
  "kernelspec": {
   "display_name": "Python 3",
   "language": "python",
   "name": "python3"
  },
  "language_info": {
   "codemirror_mode": {
    "name": "ipython",
    "version": 3
   },
   "file_extension": ".py",
   "mimetype": "text/x-python",
   "name": "python",
   "nbconvert_exporter": "python",
   "pygments_lexer": "ipython3",
   "version": "3.7.7"
  }
 },
 "nbformat": 4,
 "nbformat_minor": 4
}
